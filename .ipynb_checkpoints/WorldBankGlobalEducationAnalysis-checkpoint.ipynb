{
 "cells": [
  {
   "cell_type": "markdown",
   "metadata": {
    "id": "vncDsAP0Gaoa"
   },
   "source": [
    "# World Bank Global Education Analysis"
   ]
  },
  {
   "cell_type": "markdown",
   "metadata": {
    "id": "beRrZCGUAJYm"
   },
   "source": [
    "##### **Project Type**    - EDA\n",
    "##### **Contribution**    - Individual\n",
    "##### **Team Member 1 -** Md Ismail Quraishi"
   ]
  },
  {
   "cell_type": "markdown",
   "metadata": {
    "id": "FJNUwmbgGyua"
   },
   "source": [
    "# **Project Summary -**"
   ]
  },
  {
   "cell_type": "markdown",
   "metadata": {
    "id": "F6v_1wHtG2nS"
   },
   "source": [
    "The World Bank EdStats All Indicator Query holds over 4,000 internationally comparable indicators that describe education access, progression, completion, literacy, teachers, population, and expenditures.The indicators cover the education cycle from pre-primary to vocational and tertiary education and also holds learning outcome data from international and regional learning assessments (e.g. PISA, TIMSS, PIRLS), equity data from household surveys, and projection/attainment data."
   ]
  },
  {
   "cell_type": "markdown",
   "metadata": {
    "id": "w6K7xa23Elo4"
   },
   "source": [
    "# **GitHub Link -**"
   ]
  },
  {
   "cell_type": "markdown",
   "metadata": {
    "id": "h1o69JH3Eqqn"
   },
   "source": [
    "https://github.com/mdismailquraishicse/WorldBankGlobalEducationAnalysis"
   ]
  },
  {
   "cell_type": "markdown",
   "metadata": {
    "id": "yQaldy8SH6Dl"
   },
   "source": [
    "# **Problem Statement**\n"
   ]
  },
  {
   "cell_type": "markdown",
   "metadata": {
    "id": "DpeJGUA3kjGy"
   },
   "source": [
    "In this project we are going to analyze World Bank EdStats data in order to find out valueable insight."
   ]
  },
  {
   "cell_type": "markdown",
   "metadata": {
    "id": "PH-0ReGfmX4f"
   },
   "source": [
    "#### **Define Your Business Objective?**"
   ]
  },
  {
   "cell_type": "markdown",
   "metadata": {
    "id": "PhDvGCAqmjP1"
   },
   "source": [
    "Answer Here."
   ]
  },
  {
   "cell_type": "markdown",
   "metadata": {
    "id": "mDgbUHAGgjLW"
   },
   "source": [
    "# **General Guidelines** : -  "
   ]
  },
  {
   "cell_type": "markdown",
   "metadata": {
    "id": "O_i_v8NEhb9l"
   },
   "source": [
    "# ***Let's Begin !***"
   ]
  },
  {
   "cell_type": "markdown",
   "metadata": {
    "id": "HhfV-JJviCcP"
   },
   "source": [
    "## ***1. Know Your Data***"
   ]
  },
  {
   "cell_type": "markdown",
   "metadata": {},
   "source": [
    "#### functions"
   ]
  },
  {
   "cell_type": "code",
   "execution_count": 1,
   "metadata": {
    "id": "M8Vqi-pPk-HR"
   },
   "outputs": [],
   "source": [
    "# Import Libraries\n",
    "import numpy as np\n",
    "import pandas as pd\n",
    "import matplotlib.pyplot as plt\n",
    "import seaborn as sns\n",
    "import warnings\n",
    "warnings.filterwarnings('ignore')"
   ]
  },
  {
   "cell_type": "code",
   "execution_count": 2,
   "metadata": {},
   "outputs": [],
   "source": [
    "class df:\n",
    "    def __init__(self, path):\n",
    "        ''' this function works as constructor '''\n",
    "        self.df= pd.read_csv(path)\n",
    "        # drop unnamed columns\n",
    "        for i in self.df.columns:\n",
    "            if i[:7].lower()=='unnamed':\n",
    "                self.df.drop(columns=[i],inplace=True)\n",
    "        self.null_df = self.get_null_info()\n",
    "        # print shape\n",
    "        print('Shape :',self.df.shape)\n",
    "    def get_df(self):\n",
    "        return self.df\n",
    "\n",
    "    def know_your_data(self):\n",
    "        print('duplicate counts : ',self.df.duplicated().sum())\n",
    "        print()\n",
    "        print('columns : ',self.df.columns)\n",
    "        print()\n",
    "        print('info :')\n",
    "        print(self.df.info())\n",
    "\n",
    "    def get_null_info(self):\n",
    "        ''' inputs dataframe and returns a dataframe with null info '''\n",
    "        null_df = self.df.isna().sum().reset_index().rename(columns={'index':'features', 0:'null_count'})\n",
    "        null_df['null_pct'] = round(null_df['null_count']/len(self.df)*100, 2)\n",
    "        return null_df\n",
    "\n",
    "    def show_null_info(self, title='untitled'):\n",
    "        ''' takes a dataframe and display null chart '''\n",
    "        plt.title(title)\n",
    "        sns.barplot(self.null_df, x=self.null_df['null_count'],y=self.null_df['features'], orient='h')\n",
    "        plt.show()"
   ]
  },
  {
   "cell_type": "code",
   "execution_count": 3,
   "metadata": {
    "id": "4CkvbW_SlZ_R"
   },
   "outputs": [],
   "source": [
    "# Paths\n",
    "path_ed_stats_data = './data/EdStatsData.csv'\n",
    "path_ed_stats_country = './data/EdStatsCountry.csv'\n",
    "path_ed_stats_country_series = './data/EdStatsCountry-Series.csv'\n",
    "path_ed_stats_series = './data/EdStatsSeries.csv'\n",
    "path_ed_stats_foot_note = './data/EdStatsFootNote.csv'"
   ]
  },
  {
   "cell_type": "markdown",
   "metadata": {
    "jp-MarkdownHeadingCollapsed": true
   },
   "source": [
    "### 1. Ed_stats_data"
   ]
  },
  {
   "cell_type": "code",
   "execution_count": 4,
   "metadata": {},
   "outputs": [
    {
     "name": "stdout",
     "output_type": "stream",
     "text": [
      "Shape : (886930, 69)\n"
     ]
    },
    {
     "data": {
      "text/html": [
       "<div>\n",
       "<style scoped>\n",
       "    .dataframe tbody tr th:only-of-type {\n",
       "        vertical-align: middle;\n",
       "    }\n",
       "\n",
       "    .dataframe tbody tr th {\n",
       "        vertical-align: top;\n",
       "    }\n",
       "\n",
       "    .dataframe thead th {\n",
       "        text-align: right;\n",
       "    }\n",
       "</style>\n",
       "<table border=\"1\" class=\"dataframe\">\n",
       "  <thead>\n",
       "    <tr style=\"text-align: right;\">\n",
       "      <th></th>\n",
       "      <th>Country Name</th>\n",
       "      <th>Country Code</th>\n",
       "      <th>Indicator Name</th>\n",
       "      <th>Indicator Code</th>\n",
       "      <th>1970</th>\n",
       "      <th>1971</th>\n",
       "      <th>1972</th>\n",
       "      <th>1973</th>\n",
       "      <th>1974</th>\n",
       "      <th>1975</th>\n",
       "      <th>1976</th>\n",
       "      <th>1977</th>\n",
       "      <th>1978</th>\n",
       "      <th>1979</th>\n",
       "      <th>1980</th>\n",
       "      <th>1981</th>\n",
       "      <th>1982</th>\n",
       "      <th>1983</th>\n",
       "      <th>1984</th>\n",
       "      <th>1985</th>\n",
       "      <th>1986</th>\n",
       "      <th>1987</th>\n",
       "      <th>1988</th>\n",
       "      <th>1989</th>\n",
       "      <th>1990</th>\n",
       "      <th>1991</th>\n",
       "      <th>1992</th>\n",
       "      <th>1993</th>\n",
       "      <th>1994</th>\n",
       "      <th>1995</th>\n",
       "      <th>1996</th>\n",
       "      <th>1997</th>\n",
       "      <th>1998</th>\n",
       "      <th>1999</th>\n",
       "      <th>2000</th>\n",
       "      <th>2001</th>\n",
       "      <th>2002</th>\n",
       "      <th>2003</th>\n",
       "      <th>2004</th>\n",
       "      <th>2005</th>\n",
       "      <th>2006</th>\n",
       "      <th>2007</th>\n",
       "      <th>2008</th>\n",
       "      <th>2009</th>\n",
       "      <th>2010</th>\n",
       "      <th>2011</th>\n",
       "      <th>2012</th>\n",
       "      <th>2013</th>\n",
       "      <th>2014</th>\n",
       "      <th>2015</th>\n",
       "      <th>2016</th>\n",
       "      <th>2017</th>\n",
       "      <th>2020</th>\n",
       "      <th>2025</th>\n",
       "      <th>2030</th>\n",
       "      <th>2035</th>\n",
       "      <th>2040</th>\n",
       "      <th>2045</th>\n",
       "      <th>2050</th>\n",
       "      <th>2055</th>\n",
       "      <th>2060</th>\n",
       "      <th>2065</th>\n",
       "      <th>2070</th>\n",
       "      <th>2075</th>\n",
       "      <th>2080</th>\n",
       "      <th>2085</th>\n",
       "      <th>2090</th>\n",
       "      <th>2095</th>\n",
       "      <th>2100</th>\n",
       "    </tr>\n",
       "  </thead>\n",
       "  <tbody>\n",
       "    <tr>\n",
       "      <th>0</th>\n",
       "      <td>Arab World</td>\n",
       "      <td>ARB</td>\n",
       "      <td>Adjusted net enrolment rate, lower secondary, ...</td>\n",
       "      <td>UIS.NERA.2</td>\n",
       "      <td>NaN</td>\n",
       "      <td>NaN</td>\n",
       "      <td>NaN</td>\n",
       "      <td>NaN</td>\n",
       "      <td>NaN</td>\n",
       "      <td>NaN</td>\n",
       "      <td>NaN</td>\n",
       "      <td>NaN</td>\n",
       "      <td>NaN</td>\n",
       "      <td>NaN</td>\n",
       "      <td>NaN</td>\n",
       "      <td>NaN</td>\n",
       "      <td>NaN</td>\n",
       "      <td>NaN</td>\n",
       "      <td>NaN</td>\n",
       "      <td>NaN</td>\n",
       "      <td>NaN</td>\n",
       "      <td>NaN</td>\n",
       "      <td>NaN</td>\n",
       "      <td>NaN</td>\n",
       "      <td>NaN</td>\n",
       "      <td>NaN</td>\n",
       "      <td>NaN</td>\n",
       "      <td>NaN</td>\n",
       "      <td>NaN</td>\n",
       "      <td>NaN</td>\n",
       "      <td>NaN</td>\n",
       "      <td>NaN</td>\n",
       "      <td>NaN</td>\n",
       "      <td>NaN</td>\n",
       "      <td>NaN</td>\n",
       "      <td>NaN</td>\n",
       "      <td>NaN</td>\n",
       "      <td>NaN</td>\n",
       "      <td>NaN</td>\n",
       "      <td>NaN</td>\n",
       "      <td>NaN</td>\n",
       "      <td>NaN</td>\n",
       "      <td>NaN</td>\n",
       "      <td>NaN</td>\n",
       "      <td>NaN</td>\n",
       "      <td>NaN</td>\n",
       "      <td>NaN</td>\n",
       "      <td>NaN</td>\n",
       "      <td>NaN</td>\n",
       "      <td>NaN</td>\n",
       "      <td>NaN</td>\n",
       "      <td>NaN</td>\n",
       "      <td>NaN</td>\n",
       "      <td>NaN</td>\n",
       "      <td>NaN</td>\n",
       "      <td>NaN</td>\n",
       "      <td>NaN</td>\n",
       "      <td>NaN</td>\n",
       "      <td>NaN</td>\n",
       "      <td>NaN</td>\n",
       "      <td>NaN</td>\n",
       "      <td>NaN</td>\n",
       "      <td>NaN</td>\n",
       "      <td>NaN</td>\n",
       "      <td>NaN</td>\n",
       "      <td>NaN</td>\n",
       "      <td>NaN</td>\n",
       "      <td>NaN</td>\n",
       "      <td>NaN</td>\n",
       "    </tr>\n",
       "    <tr>\n",
       "      <th>1</th>\n",
       "      <td>Arab World</td>\n",
       "      <td>ARB</td>\n",
       "      <td>Adjusted net enrolment rate, lower secondary, ...</td>\n",
       "      <td>UIS.NERA.2.F</td>\n",
       "      <td>NaN</td>\n",
       "      <td>NaN</td>\n",
       "      <td>NaN</td>\n",
       "      <td>NaN</td>\n",
       "      <td>NaN</td>\n",
       "      <td>NaN</td>\n",
       "      <td>NaN</td>\n",
       "      <td>NaN</td>\n",
       "      <td>NaN</td>\n",
       "      <td>NaN</td>\n",
       "      <td>NaN</td>\n",
       "      <td>NaN</td>\n",
       "      <td>NaN</td>\n",
       "      <td>NaN</td>\n",
       "      <td>NaN</td>\n",
       "      <td>NaN</td>\n",
       "      <td>NaN</td>\n",
       "      <td>NaN</td>\n",
       "      <td>NaN</td>\n",
       "      <td>NaN</td>\n",
       "      <td>NaN</td>\n",
       "      <td>NaN</td>\n",
       "      <td>NaN</td>\n",
       "      <td>NaN</td>\n",
       "      <td>NaN</td>\n",
       "      <td>NaN</td>\n",
       "      <td>NaN</td>\n",
       "      <td>NaN</td>\n",
       "      <td>NaN</td>\n",
       "      <td>NaN</td>\n",
       "      <td>NaN</td>\n",
       "      <td>NaN</td>\n",
       "      <td>NaN</td>\n",
       "      <td>NaN</td>\n",
       "      <td>NaN</td>\n",
       "      <td>NaN</td>\n",
       "      <td>NaN</td>\n",
       "      <td>NaN</td>\n",
       "      <td>NaN</td>\n",
       "      <td>NaN</td>\n",
       "      <td>NaN</td>\n",
       "      <td>NaN</td>\n",
       "      <td>NaN</td>\n",
       "      <td>NaN</td>\n",
       "      <td>NaN</td>\n",
       "      <td>NaN</td>\n",
       "      <td>NaN</td>\n",
       "      <td>NaN</td>\n",
       "      <td>NaN</td>\n",
       "      <td>NaN</td>\n",
       "      <td>NaN</td>\n",
       "      <td>NaN</td>\n",
       "      <td>NaN</td>\n",
       "      <td>NaN</td>\n",
       "      <td>NaN</td>\n",
       "      <td>NaN</td>\n",
       "      <td>NaN</td>\n",
       "      <td>NaN</td>\n",
       "      <td>NaN</td>\n",
       "      <td>NaN</td>\n",
       "      <td>NaN</td>\n",
       "      <td>NaN</td>\n",
       "      <td>NaN</td>\n",
       "      <td>NaN</td>\n",
       "      <td>NaN</td>\n",
       "    </tr>\n",
       "    <tr>\n",
       "      <th>2</th>\n",
       "      <td>Arab World</td>\n",
       "      <td>ARB</td>\n",
       "      <td>Adjusted net enrolment rate, lower secondary, ...</td>\n",
       "      <td>UIS.NERA.2.GPI</td>\n",
       "      <td>NaN</td>\n",
       "      <td>NaN</td>\n",
       "      <td>NaN</td>\n",
       "      <td>NaN</td>\n",
       "      <td>NaN</td>\n",
       "      <td>NaN</td>\n",
       "      <td>NaN</td>\n",
       "      <td>NaN</td>\n",
       "      <td>NaN</td>\n",
       "      <td>NaN</td>\n",
       "      <td>NaN</td>\n",
       "      <td>NaN</td>\n",
       "      <td>NaN</td>\n",
       "      <td>NaN</td>\n",
       "      <td>NaN</td>\n",
       "      <td>NaN</td>\n",
       "      <td>NaN</td>\n",
       "      <td>NaN</td>\n",
       "      <td>NaN</td>\n",
       "      <td>NaN</td>\n",
       "      <td>NaN</td>\n",
       "      <td>NaN</td>\n",
       "      <td>NaN</td>\n",
       "      <td>NaN</td>\n",
       "      <td>NaN</td>\n",
       "      <td>NaN</td>\n",
       "      <td>NaN</td>\n",
       "      <td>NaN</td>\n",
       "      <td>NaN</td>\n",
       "      <td>NaN</td>\n",
       "      <td>NaN</td>\n",
       "      <td>NaN</td>\n",
       "      <td>NaN</td>\n",
       "      <td>NaN</td>\n",
       "      <td>NaN</td>\n",
       "      <td>NaN</td>\n",
       "      <td>NaN</td>\n",
       "      <td>NaN</td>\n",
       "      <td>NaN</td>\n",
       "      <td>NaN</td>\n",
       "      <td>NaN</td>\n",
       "      <td>NaN</td>\n",
       "      <td>NaN</td>\n",
       "      <td>NaN</td>\n",
       "      <td>NaN</td>\n",
       "      <td>NaN</td>\n",
       "      <td>NaN</td>\n",
       "      <td>NaN</td>\n",
       "      <td>NaN</td>\n",
       "      <td>NaN</td>\n",
       "      <td>NaN</td>\n",
       "      <td>NaN</td>\n",
       "      <td>NaN</td>\n",
       "      <td>NaN</td>\n",
       "      <td>NaN</td>\n",
       "      <td>NaN</td>\n",
       "      <td>NaN</td>\n",
       "      <td>NaN</td>\n",
       "      <td>NaN</td>\n",
       "      <td>NaN</td>\n",
       "      <td>NaN</td>\n",
       "      <td>NaN</td>\n",
       "      <td>NaN</td>\n",
       "      <td>NaN</td>\n",
       "      <td>NaN</td>\n",
       "    </tr>\n",
       "  </tbody>\n",
       "</table>\n",
       "</div>"
      ],
      "text/plain": [
       "  Country Name Country Code  \\\n",
       "0   Arab World          ARB   \n",
       "1   Arab World          ARB   \n",
       "2   Arab World          ARB   \n",
       "\n",
       "                                      Indicator Name  Indicator Code  1970  \\\n",
       "0  Adjusted net enrolment rate, lower secondary, ...      UIS.NERA.2   NaN   \n",
       "1  Adjusted net enrolment rate, lower secondary, ...    UIS.NERA.2.F   NaN   \n",
       "2  Adjusted net enrolment rate, lower secondary, ...  UIS.NERA.2.GPI   NaN   \n",
       "\n",
       "   1971  1972  1973  1974  1975  1976  1977  1978  1979  1980  1981  1982  \\\n",
       "0   NaN   NaN   NaN   NaN   NaN   NaN   NaN   NaN   NaN   NaN   NaN   NaN   \n",
       "1   NaN   NaN   NaN   NaN   NaN   NaN   NaN   NaN   NaN   NaN   NaN   NaN   \n",
       "2   NaN   NaN   NaN   NaN   NaN   NaN   NaN   NaN   NaN   NaN   NaN   NaN   \n",
       "\n",
       "   1983  1984  1985  1986  1987  1988  1989  1990  1991  1992  1993  1994  \\\n",
       "0   NaN   NaN   NaN   NaN   NaN   NaN   NaN   NaN   NaN   NaN   NaN   NaN   \n",
       "1   NaN   NaN   NaN   NaN   NaN   NaN   NaN   NaN   NaN   NaN   NaN   NaN   \n",
       "2   NaN   NaN   NaN   NaN   NaN   NaN   NaN   NaN   NaN   NaN   NaN   NaN   \n",
       "\n",
       "   1995  1996  1997  1998  1999  2000  2001  2002  2003  2004  2005  2006  \\\n",
       "0   NaN   NaN   NaN   NaN   NaN   NaN   NaN   NaN   NaN   NaN   NaN   NaN   \n",
       "1   NaN   NaN   NaN   NaN   NaN   NaN   NaN   NaN   NaN   NaN   NaN   NaN   \n",
       "2   NaN   NaN   NaN   NaN   NaN   NaN   NaN   NaN   NaN   NaN   NaN   NaN   \n",
       "\n",
       "   2007  2008  2009  2010  2011  2012  2013  2014  2015  2016  2017  2020  \\\n",
       "0   NaN   NaN   NaN   NaN   NaN   NaN   NaN   NaN   NaN   NaN   NaN   NaN   \n",
       "1   NaN   NaN   NaN   NaN   NaN   NaN   NaN   NaN   NaN   NaN   NaN   NaN   \n",
       "2   NaN   NaN   NaN   NaN   NaN   NaN   NaN   NaN   NaN   NaN   NaN   NaN   \n",
       "\n",
       "   2025  2030  2035  2040  2045  2050  2055  2060  2065  2070  2075  2080  \\\n",
       "0   NaN   NaN   NaN   NaN   NaN   NaN   NaN   NaN   NaN   NaN   NaN   NaN   \n",
       "1   NaN   NaN   NaN   NaN   NaN   NaN   NaN   NaN   NaN   NaN   NaN   NaN   \n",
       "2   NaN   NaN   NaN   NaN   NaN   NaN   NaN   NaN   NaN   NaN   NaN   NaN   \n",
       "\n",
       "   2085  2090  2095  2100  \n",
       "0   NaN   NaN   NaN   NaN  \n",
       "1   NaN   NaN   NaN   NaN  \n",
       "2   NaN   NaN   NaN   NaN  "
      ]
     },
     "execution_count": 4,
     "metadata": {},
     "output_type": "execute_result"
    }
   ],
   "source": [
    "# Load and read the data\n",
    "pd.set_option('display.max_columns',None)\n",
    "pd.set_option('display.max_rows',None)\n",
    "\n",
    "df_stats = df(path_ed_stats_data)\n",
    "df_stats.get_df().head(3)"
   ]
  },
  {
   "cell_type": "code",
   "execution_count": 5,
   "metadata": {},
   "outputs": [
    {
     "name": "stdout",
     "output_type": "stream",
     "text": [
      "duplicate counts :  0\n",
      "\n",
      "columns :  Index(['Country Name', 'Country Code', 'Indicator Name', 'Indicator Code',\n",
      "       '1970', '1971', '1972', '1973', '1974', '1975', '1976', '1977', '1978',\n",
      "       '1979', '1980', '1981', '1982', '1983', '1984', '1985', '1986', '1987',\n",
      "       '1988', '1989', '1990', '1991', '1992', '1993', '1994', '1995', '1996',\n",
      "       '1997', '1998', '1999', '2000', '2001', '2002', '2003', '2004', '2005',\n",
      "       '2006', '2007', '2008', '2009', '2010', '2011', '2012', '2013', '2014',\n",
      "       '2015', '2016', '2017', '2020', '2025', '2030', '2035', '2040', '2045',\n",
      "       '2050', '2055', '2060', '2065', '2070', '2075', '2080', '2085', '2090',\n",
      "       '2095', '2100'],\n",
      "      dtype='object')\n",
      "\n",
      "info :\n",
      "<class 'pandas.core.frame.DataFrame'>\n",
      "RangeIndex: 886930 entries, 0 to 886929\n",
      "Data columns (total 69 columns):\n",
      " #   Column          Non-Null Count   Dtype  \n",
      "---  ------          --------------   -----  \n",
      " 0   Country Name    886930 non-null  object \n",
      " 1   Country Code    886930 non-null  object \n",
      " 2   Indicator Name  886930 non-null  object \n",
      " 3   Indicator Code  886930 non-null  object \n",
      " 4   1970            72288 non-null   float64\n",
      " 5   1971            35537 non-null   float64\n",
      " 6   1972            35619 non-null   float64\n",
      " 7   1973            35545 non-null   float64\n",
      " 8   1974            35730 non-null   float64\n",
      " 9   1975            87306 non-null   float64\n",
      " 10  1976            37483 non-null   float64\n",
      " 11  1977            37574 non-null   float64\n",
      " 12  1978            37576 non-null   float64\n",
      " 13  1979            36809 non-null   float64\n",
      " 14  1980            89122 non-null   float64\n",
      " 15  1981            38777 non-null   float64\n",
      " 16  1982            37511 non-null   float64\n",
      " 17  1983            38460 non-null   float64\n",
      " 18  1984            38606 non-null   float64\n",
      " 19  1985            90296 non-null   float64\n",
      " 20  1986            39372 non-null   float64\n",
      " 21  1987            38641 non-null   float64\n",
      " 22  1988            38552 non-null   float64\n",
      " 23  1989            37540 non-null   float64\n",
      " 24  1990            124405 non-null  float64\n",
      " 25  1991            74437 non-null   float64\n",
      " 26  1992            75543 non-null   float64\n",
      " 27  1993            75793 non-null   float64\n",
      " 28  1994            77462 non-null   float64\n",
      " 29  1995            131361 non-null  float64\n",
      " 30  1996            76807 non-null   float64\n",
      " 31  1997            73453 non-null   float64\n",
      " 32  1998            84914 non-null   float64\n",
      " 33  1999            118839 non-null  float64\n",
      " 34  2000            176676 non-null  float64\n",
      " 35  2001            123509 non-null  float64\n",
      " 36  2002            124205 non-null  float64\n",
      " 37  2003            130363 non-null  float64\n",
      " 38  2004            128814 non-null  float64\n",
      " 39  2005            184108 non-null  float64\n",
      " 40  2006            140312 non-null  float64\n",
      " 41  2007            137272 non-null  float64\n",
      " 42  2008            134387 non-null  float64\n",
      " 43  2009            142108 non-null  float64\n",
      " 44  2010            242442 non-null  float64\n",
      " 45  2011            146012 non-null  float64\n",
      " 46  2012            147264 non-null  float64\n",
      " 47  2013            137509 non-null  float64\n",
      " 48  2014            113789 non-null  float64\n",
      " 49  2015            131058 non-null  float64\n",
      " 50  2016            16460 non-null   float64\n",
      " 51  2017            143 non-null     float64\n",
      " 52  2020            51436 non-null   float64\n",
      " 53  2025            51436 non-null   float64\n",
      " 54  2030            51436 non-null   float64\n",
      " 55  2035            51436 non-null   float64\n",
      " 56  2040            51436 non-null   float64\n",
      " 57  2045            51436 non-null   float64\n",
      " 58  2050            51436 non-null   float64\n",
      " 59  2055            51436 non-null   float64\n",
      " 60  2060            51436 non-null   float64\n",
      " 61  2065            51436 non-null   float64\n",
      " 62  2070            51436 non-null   float64\n",
      " 63  2075            51436 non-null   float64\n",
      " 64  2080            51436 non-null   float64\n",
      " 65  2085            51436 non-null   float64\n",
      " 66  2090            51436 non-null   float64\n",
      " 67  2095            51436 non-null   float64\n",
      " 68  2100            51436 non-null   float64\n",
      "dtypes: float64(65), object(4)\n",
      "memory usage: 466.9+ MB\n",
      "None\n"
     ]
    }
   ],
   "source": [
    "# Info\n",
    "df_stats.know_your_data()"
   ]
  },
  {
   "cell_type": "code",
   "execution_count": 6,
   "metadata": {},
   "outputs": [
    {
     "data": {
      "text/html": [
       "<div>\n",
       "<style scoped>\n",
       "    .dataframe tbody tr th:only-of-type {\n",
       "        vertical-align: middle;\n",
       "    }\n",
       "\n",
       "    .dataframe tbody tr th {\n",
       "        vertical-align: top;\n",
       "    }\n",
       "\n",
       "    .dataframe thead th {\n",
       "        text-align: right;\n",
       "    }\n",
       "</style>\n",
       "<table border=\"1\" class=\"dataframe\">\n",
       "  <thead>\n",
       "    <tr style=\"text-align: right;\">\n",
       "      <th></th>\n",
       "      <th>1970</th>\n",
       "      <th>1971</th>\n",
       "      <th>1972</th>\n",
       "      <th>1973</th>\n",
       "      <th>1974</th>\n",
       "      <th>1975</th>\n",
       "      <th>1976</th>\n",
       "      <th>1977</th>\n",
       "      <th>1978</th>\n",
       "      <th>1979</th>\n",
       "      <th>1980</th>\n",
       "      <th>1981</th>\n",
       "      <th>1982</th>\n",
       "      <th>1983</th>\n",
       "      <th>1984</th>\n",
       "      <th>1985</th>\n",
       "      <th>1986</th>\n",
       "      <th>1987</th>\n",
       "      <th>1988</th>\n",
       "      <th>1989</th>\n",
       "      <th>1990</th>\n",
       "      <th>1991</th>\n",
       "      <th>1992</th>\n",
       "      <th>1993</th>\n",
       "      <th>1994</th>\n",
       "      <th>1995</th>\n",
       "      <th>1996</th>\n",
       "      <th>1997</th>\n",
       "      <th>1998</th>\n",
       "      <th>1999</th>\n",
       "      <th>2000</th>\n",
       "      <th>2001</th>\n",
       "      <th>2002</th>\n",
       "      <th>2003</th>\n",
       "      <th>2004</th>\n",
       "      <th>2005</th>\n",
       "      <th>2006</th>\n",
       "      <th>2007</th>\n",
       "      <th>2008</th>\n",
       "      <th>2009</th>\n",
       "      <th>2010</th>\n",
       "      <th>2011</th>\n",
       "      <th>2012</th>\n",
       "      <th>2013</th>\n",
       "      <th>2014</th>\n",
       "      <th>2015</th>\n",
       "      <th>2016</th>\n",
       "      <th>2017</th>\n",
       "      <th>2020</th>\n",
       "      <th>2025</th>\n",
       "      <th>2030</th>\n",
       "      <th>2035</th>\n",
       "      <th>2040</th>\n",
       "      <th>2045</th>\n",
       "      <th>2050</th>\n",
       "      <th>2055</th>\n",
       "      <th>2060</th>\n",
       "      <th>2065</th>\n",
       "      <th>2070</th>\n",
       "      <th>2075</th>\n",
       "      <th>2080</th>\n",
       "      <th>2085</th>\n",
       "      <th>2090</th>\n",
       "      <th>2095</th>\n",
       "      <th>2100</th>\n",
       "    </tr>\n",
       "  </thead>\n",
       "  <tbody>\n",
       "    <tr>\n",
       "      <th>count</th>\n",
       "      <td>7.228800e+04</td>\n",
       "      <td>3.553700e+04</td>\n",
       "      <td>3.561900e+04</td>\n",
       "      <td>3.554500e+04</td>\n",
       "      <td>3.573000e+04</td>\n",
       "      <td>8.730600e+04</td>\n",
       "      <td>3.748300e+04</td>\n",
       "      <td>3.757400e+04</td>\n",
       "      <td>3.757600e+04</td>\n",
       "      <td>3.680900e+04</td>\n",
       "      <td>8.912200e+04</td>\n",
       "      <td>3.877700e+04</td>\n",
       "      <td>3.751100e+04</td>\n",
       "      <td>3.846000e+04</td>\n",
       "      <td>3.860600e+04</td>\n",
       "      <td>9.029600e+04</td>\n",
       "      <td>3.937200e+04</td>\n",
       "      <td>3.864100e+04</td>\n",
       "      <td>3.855200e+04</td>\n",
       "      <td>3.754000e+04</td>\n",
       "      <td>1.244050e+05</td>\n",
       "      <td>7.443700e+04</td>\n",
       "      <td>7.554300e+04</td>\n",
       "      <td>7.579300e+04</td>\n",
       "      <td>7.746200e+04</td>\n",
       "      <td>1.313610e+05</td>\n",
       "      <td>7.680700e+04</td>\n",
       "      <td>7.345300e+04</td>\n",
       "      <td>8.491400e+04</td>\n",
       "      <td>1.188390e+05</td>\n",
       "      <td>1.766760e+05</td>\n",
       "      <td>1.235090e+05</td>\n",
       "      <td>1.242050e+05</td>\n",
       "      <td>1.303630e+05</td>\n",
       "      <td>1.288140e+05</td>\n",
       "      <td>1.841080e+05</td>\n",
       "      <td>1.403120e+05</td>\n",
       "      <td>1.372720e+05</td>\n",
       "      <td>1.343870e+05</td>\n",
       "      <td>1.421080e+05</td>\n",
       "      <td>2.424420e+05</td>\n",
       "      <td>1.460120e+05</td>\n",
       "      <td>1.472640e+05</td>\n",
       "      <td>1.375090e+05</td>\n",
       "      <td>1.137890e+05</td>\n",
       "      <td>1.310580e+05</td>\n",
       "      <td>1.646000e+04</td>\n",
       "      <td>143.000000</td>\n",
       "      <td>5.143600e+04</td>\n",
       "      <td>5.143600e+04</td>\n",
       "      <td>5.143600e+04</td>\n",
       "      <td>5.143600e+04</td>\n",
       "      <td>5.143600e+04</td>\n",
       "      <td>5.143600e+04</td>\n",
       "      <td>5.143600e+04</td>\n",
       "      <td>5.143600e+04</td>\n",
       "      <td>5.143600e+04</td>\n",
       "      <td>5.143600e+04</td>\n",
       "      <td>5.143600e+04</td>\n",
       "      <td>5.143600e+04</td>\n",
       "      <td>5.143600e+04</td>\n",
       "      <td>5.143600e+04</td>\n",
       "      <td>5.143600e+04</td>\n",
       "      <td>5.143600e+04</td>\n",
       "      <td>5.143600e+04</td>\n",
       "    </tr>\n",
       "    <tr>\n",
       "      <th>mean</th>\n",
       "      <td>1.974772e+09</td>\n",
       "      <td>4.253638e+09</td>\n",
       "      <td>4.592365e+09</td>\n",
       "      <td>5.105006e+09</td>\n",
       "      <td>5.401493e+09</td>\n",
       "      <td>2.314288e+09</td>\n",
       "      <td>5.731808e+09</td>\n",
       "      <td>6.124437e+09</td>\n",
       "      <td>6.671489e+09</td>\n",
       "      <td>7.436724e+09</td>\n",
       "      <td>3.283898e+09</td>\n",
       "      <td>7.664969e+09</td>\n",
       "      <td>7.913722e+09</td>\n",
       "      <td>7.856908e+09</td>\n",
       "      <td>8.118002e+09</td>\n",
       "      <td>3.622763e+09</td>\n",
       "      <td>9.156550e+09</td>\n",
       "      <td>1.014901e+10</td>\n",
       "      <td>1.104709e+10</td>\n",
       "      <td>1.195436e+10</td>\n",
       "      <td>9.084424e+09</td>\n",
       "      <td>1.571674e+10</td>\n",
       "      <td>1.604668e+10</td>\n",
       "      <td>1.643532e+10</td>\n",
       "      <td>1.684022e+10</td>\n",
       "      <td>1.052543e+10</td>\n",
       "      <td>1.874630e+10</td>\n",
       "      <td>2.027385e+10</td>\n",
       "      <td>1.794678e+10</td>\n",
       "      <td>1.331558e+10</td>\n",
       "      <td>9.423384e+09</td>\n",
       "      <td>1.384867e+10</td>\n",
       "      <td>1.428299e+10</td>\n",
       "      <td>1.449393e+10</td>\n",
       "      <td>1.589729e+10</td>\n",
       "      <td>1.188637e+10</td>\n",
       "      <td>1.684674e+10</td>\n",
       "      <td>1.872300e+10</td>\n",
       "      <td>2.029794e+10</td>\n",
       "      <td>1.894907e+10</td>\n",
       "      <td>1.189592e+10</td>\n",
       "      <td>2.117911e+10</td>\n",
       "      <td>2.176323e+10</td>\n",
       "      <td>2.425332e+10</td>\n",
       "      <td>2.678449e+10</td>\n",
       "      <td>2.353720e+10</td>\n",
       "      <td>1.934411e+11</td>\n",
       "      <td>2.160839</td>\n",
       "      <td>5.780697e+02</td>\n",
       "      <td>6.054774e+02</td>\n",
       "      <td>6.315916e+02</td>\n",
       "      <td>6.556516e+02</td>\n",
       "      <td>6.751516e+02</td>\n",
       "      <td>6.911287e+02</td>\n",
       "      <td>7.040640e+02</td>\n",
       "      <td>7.145788e+02</td>\n",
       "      <td>7.224868e+02</td>\n",
       "      <td>7.271290e+02</td>\n",
       "      <td>7.283779e+02</td>\n",
       "      <td>7.266484e+02</td>\n",
       "      <td>7.228327e+02</td>\n",
       "      <td>7.176899e+02</td>\n",
       "      <td>7.113072e+02</td>\n",
       "      <td>7.034274e+02</td>\n",
       "      <td>6.940296e+02</td>\n",
       "    </tr>\n",
       "    <tr>\n",
       "      <th>std</th>\n",
       "      <td>1.211687e+11</td>\n",
       "      <td>1.804814e+11</td>\n",
       "      <td>1.914083e+11</td>\n",
       "      <td>2.059170e+11</td>\n",
       "      <td>2.112150e+11</td>\n",
       "      <td>1.375059e+11</td>\n",
       "      <td>2.215546e+11</td>\n",
       "      <td>2.325489e+11</td>\n",
       "      <td>2.473986e+11</td>\n",
       "      <td>2.660957e+11</td>\n",
       "      <td>1.780774e+11</td>\n",
       "      <td>2.744142e+11</td>\n",
       "      <td>2.790549e+11</td>\n",
       "      <td>2.823809e+11</td>\n",
       "      <td>2.940635e+11</td>\n",
       "      <td>2.002929e+11</td>\n",
       "      <td>3.264675e+11</td>\n",
       "      <td>3.535351e+11</td>\n",
       "      <td>3.804257e+11</td>\n",
       "      <td>4.014873e+11</td>\n",
       "      <td>3.665667e+11</td>\n",
       "      <td>4.881357e+11</td>\n",
       "      <td>5.012055e+11</td>\n",
       "      <td>5.121962e+11</td>\n",
       "      <td>5.292982e+11</td>\n",
       "      <td>4.285218e+11</td>\n",
       "      <td>5.812586e+11</td>\n",
       "      <td>6.142357e+11</td>\n",
       "      <td>5.859148e+11</td>\n",
       "      <td>5.153472e+11</td>\n",
       "      <td>4.442374e+11</td>\n",
       "      <td>5.449242e+11</td>\n",
       "      <td>5.622886e+11</td>\n",
       "      <td>5.803607e+11</td>\n",
       "      <td>6.278337e+11</td>\n",
       "      <td>5.576181e+11</td>\n",
       "      <td>6.851484e+11</td>\n",
       "      <td>7.465688e+11</td>\n",
       "      <td>7.944132e+11</td>\n",
       "      <td>7.623650e+11</td>\n",
       "      <td>6.218710e+11</td>\n",
       "      <td>8.555853e+11</td>\n",
       "      <td>8.833955e+11</td>\n",
       "      <td>9.513016e+11</td>\n",
       "      <td>1.023180e+12</td>\n",
       "      <td>9.732465e+11</td>\n",
       "      <td>2.839188e+12</td>\n",
       "      <td>0.810584</td>\n",
       "      <td>1.475072e+04</td>\n",
       "      <td>1.577305e+04</td>\n",
       "      <td>1.678556e+04</td>\n",
       "      <td>1.778666e+04</td>\n",
       "      <td>1.874408e+04</td>\n",
       "      <td>1.965409e+04</td>\n",
       "      <td>2.052941e+04</td>\n",
       "      <td>2.136851e+04</td>\n",
       "      <td>2.215845e+04</td>\n",
       "      <td>2.287990e+04</td>\n",
       "      <td>2.352338e+04</td>\n",
       "      <td>2.408149e+04</td>\n",
       "      <td>2.455897e+04</td>\n",
       "      <td>2.496587e+04</td>\n",
       "      <td>2.530183e+04</td>\n",
       "      <td>2.556069e+04</td>\n",
       "      <td>2.574189e+04</td>\n",
       "    </tr>\n",
       "    <tr>\n",
       "      <th>min</th>\n",
       "      <td>-1.435564e+00</td>\n",
       "      <td>-1.594625e+00</td>\n",
       "      <td>-3.056522e+00</td>\n",
       "      <td>-4.032582e+00</td>\n",
       "      <td>-4.213563e+00</td>\n",
       "      <td>-3.658569e+00</td>\n",
       "      <td>-2.950945e+00</td>\n",
       "      <td>-3.174870e+00</td>\n",
       "      <td>-3.558749e+00</td>\n",
       "      <td>-2.973612e+00</td>\n",
       "      <td>-1.404240e+00</td>\n",
       "      <td>-1.478345e+00</td>\n",
       "      <td>-2.358765e+00</td>\n",
       "      <td>-2.867273e+00</td>\n",
       "      <td>-2.800548e+00</td>\n",
       "      <td>-2.216315e+00</td>\n",
       "      <td>-1.556722e+00</td>\n",
       "      <td>-1.410886e+00</td>\n",
       "      <td>-1.425202e+00</td>\n",
       "      <td>-1.562425e+00</td>\n",
       "      <td>-1.803750e+00</td>\n",
       "      <td>-5.814339e+00</td>\n",
       "      <td>-5.089333e+00</td>\n",
       "      <td>-6.184857e+00</td>\n",
       "      <td>-4.792691e+00</td>\n",
       "      <td>-2.697722e+00</td>\n",
       "      <td>-3.820174e+00</td>\n",
       "      <td>-2.517245e+00</td>\n",
       "      <td>-6.086200e+04</td>\n",
       "      <td>-6.526000e+04</td>\n",
       "      <td>-6.759300e+04</td>\n",
       "      <td>-6.973700e+04</td>\n",
       "      <td>-9.214300e+04</td>\n",
       "      <td>-1.111860e+05</td>\n",
       "      <td>-1.262600e+05</td>\n",
       "      <td>-1.347240e+05</td>\n",
       "      <td>-3.708940e+05</td>\n",
       "      <td>-3.882170e+05</td>\n",
       "      <td>-4.088540e+05</td>\n",
       "      <td>-4.561240e+05</td>\n",
       "      <td>-4.969050e+05</td>\n",
       "      <td>-5.709940e+05</td>\n",
       "      <td>-6.049930e+05</td>\n",
       "      <td>-6.157480e+05</td>\n",
       "      <td>-8.900000e+01</td>\n",
       "      <td>-2.467847e+00</td>\n",
       "      <td>-1.797539e+00</td>\n",
       "      <td>1.000000</td>\n",
       "      <td>-1.870000e+00</td>\n",
       "      <td>-2.000000e+00</td>\n",
       "      <td>-2.110000e+00</td>\n",
       "      <td>-2.150000e+00</td>\n",
       "      <td>-2.140000e+00</td>\n",
       "      <td>-2.090000e+00</td>\n",
       "      <td>-1.980000e+00</td>\n",
       "      <td>-1.830000e+00</td>\n",
       "      <td>-1.630000e+00</td>\n",
       "      <td>-1.440000e+00</td>\n",
       "      <td>-1.260000e+00</td>\n",
       "      <td>-1.090000e+00</td>\n",
       "      <td>-9.200000e-01</td>\n",
       "      <td>-7.800000e-01</td>\n",
       "      <td>-6.500000e-01</td>\n",
       "      <td>-5.500000e-01</td>\n",
       "      <td>-4.500000e-01</td>\n",
       "    </tr>\n",
       "    <tr>\n",
       "      <th>25%</th>\n",
       "      <td>8.900000e-01</td>\n",
       "      <td>8.853210e+00</td>\n",
       "      <td>9.240920e+00</td>\n",
       "      <td>9.595200e+00</td>\n",
       "      <td>9.861595e+00</td>\n",
       "      <td>1.400000e+00</td>\n",
       "      <td>9.312615e+00</td>\n",
       "      <td>9.519913e+00</td>\n",
       "      <td>1.000000e+01</td>\n",
       "      <td>1.000000e+01</td>\n",
       "      <td>1.770000e+00</td>\n",
       "      <td>9.468690e+00</td>\n",
       "      <td>9.989330e+00</td>\n",
       "      <td>9.581825e+00</td>\n",
       "      <td>9.068048e+00</td>\n",
       "      <td>2.150000e+00</td>\n",
       "      <td>9.332923e+00</td>\n",
       "      <td>9.595330e+00</td>\n",
       "      <td>9.715503e+00</td>\n",
       "      <td>9.679637e+00</td>\n",
       "      <td>4.830000e+00</td>\n",
       "      <td>5.134554e+01</td>\n",
       "      <td>4.933854e+01</td>\n",
       "      <td>4.944877e+01</td>\n",
       "      <td>4.783283e+01</td>\n",
       "      <td>5.200000e+00</td>\n",
       "      <td>4.836486e+01</td>\n",
       "      <td>5.510854e+01</td>\n",
       "      <td>3.346871e+01</td>\n",
       "      <td>1.749051e+01</td>\n",
       "      <td>5.699035e+00</td>\n",
       "      <td>1.599897e+01</td>\n",
       "      <td>1.584246e+01</td>\n",
       "      <td>1.550983e+01</td>\n",
       "      <td>1.418687e+01</td>\n",
       "      <td>5.720000e+00</td>\n",
       "      <td>1.277624e+01</td>\n",
       "      <td>1.268661e+01</td>\n",
       "      <td>1.233467e+01</td>\n",
       "      <td>1.181939e+01</td>\n",
       "      <td>1.322703e+00</td>\n",
       "      <td>1.216330e+01</td>\n",
       "      <td>1.100000e+01</td>\n",
       "      <td>1.306113e+01</td>\n",
       "      <td>1.614639e+01</td>\n",
       "      <td>4.100000e-01</td>\n",
       "      <td>1.826761e+01</td>\n",
       "      <td>2.000000</td>\n",
       "      <td>6.000000e-02</td>\n",
       "      <td>6.000000e-02</td>\n",
       "      <td>6.000000e-02</td>\n",
       "      <td>6.000000e-02</td>\n",
       "      <td>5.000000e-02</td>\n",
       "      <td>5.000000e-02</td>\n",
       "      <td>4.000000e-02</td>\n",
       "      <td>3.000000e-02</td>\n",
       "      <td>3.000000e-02</td>\n",
       "      <td>3.000000e-02</td>\n",
       "      <td>2.000000e-02</td>\n",
       "      <td>2.000000e-02</td>\n",
       "      <td>1.000000e-02</td>\n",
       "      <td>1.000000e-02</td>\n",
       "      <td>1.000000e-02</td>\n",
       "      <td>1.000000e-02</td>\n",
       "      <td>1.000000e-02</td>\n",
       "    </tr>\n",
       "    <tr>\n",
       "      <th>50%</th>\n",
       "      <td>6.317724e+00</td>\n",
       "      <td>6.316240e+01</td>\n",
       "      <td>6.655139e+01</td>\n",
       "      <td>6.969595e+01</td>\n",
       "      <td>7.087760e+01</td>\n",
       "      <td>9.677420e+00</td>\n",
       "      <td>7.101590e+01</td>\n",
       "      <td>7.133326e+01</td>\n",
       "      <td>7.290512e+01</td>\n",
       "      <td>7.510173e+01</td>\n",
       "      <td>1.107000e+01</td>\n",
       "      <td>7.467213e+01</td>\n",
       "      <td>7.710972e+01</td>\n",
       "      <td>7.592528e+01</td>\n",
       "      <td>7.533138e+01</td>\n",
       "      <td>1.200000e+01</td>\n",
       "      <td>7.409428e+01</td>\n",
       "      <td>7.357014e+01</td>\n",
       "      <td>7.354275e+01</td>\n",
       "      <td>7.935322e+01</td>\n",
       "      <td>5.048379e+01</td>\n",
       "      <td>3.916000e+04</td>\n",
       "      <td>3.477300e+04</td>\n",
       "      <td>3.497100e+04</td>\n",
       "      <td>3.182500e+04</td>\n",
       "      <td>5.018663e+01</td>\n",
       "      <td>3.262400e+04</td>\n",
       "      <td>4.319600e+04</td>\n",
       "      <td>1.521400e+04</td>\n",
       "      <td>1.251000e+03</td>\n",
       "      <td>5.078717e+01</td>\n",
       "      <td>8.300000e+02</td>\n",
       "      <td>9.460000e+02</td>\n",
       "      <td>3.956150e+02</td>\n",
       "      <td>3.350000e+02</td>\n",
       "      <td>5.031512e+01</td>\n",
       "      <td>9.981849e+01</td>\n",
       "      <td>1.000000e+02</td>\n",
       "      <td>1.000000e+02</td>\n",
       "      <td>9.925039e+01</td>\n",
       "      <td>2.046020e+01</td>\n",
       "      <td>9.853510e+01</td>\n",
       "      <td>9.759012e+01</td>\n",
       "      <td>1.000000e+02</td>\n",
       "      <td>1.000000e+02</td>\n",
       "      <td>5.235000e+01</td>\n",
       "      <td>6.264000e+03</td>\n",
       "      <td>2.000000</td>\n",
       "      <td>2.300000e-01</td>\n",
       "      <td>2.300000e-01</td>\n",
       "      <td>2.300000e-01</td>\n",
       "      <td>2.300000e-01</td>\n",
       "      <td>2.300000e-01</td>\n",
       "      <td>2.300000e-01</td>\n",
       "      <td>2.300000e-01</td>\n",
       "      <td>2.300000e-01</td>\n",
       "      <td>2.300000e-01</td>\n",
       "      <td>2.300000e-01</td>\n",
       "      <td>2.300000e-01</td>\n",
       "      <td>2.300000e-01</td>\n",
       "      <td>2.300000e-01</td>\n",
       "      <td>2.300000e-01</td>\n",
       "      <td>2.300000e-01</td>\n",
       "      <td>2.300000e-01</td>\n",
       "      <td>2.200000e-01</td>\n",
       "    </tr>\n",
       "    <tr>\n",
       "      <th>75%</th>\n",
       "      <td>6.251250e+01</td>\n",
       "      <td>5.655200e+04</td>\n",
       "      <td>5.863650e+04</td>\n",
       "      <td>6.202900e+04</td>\n",
       "      <td>6.383675e+04</td>\n",
       "      <td>7.854163e+01</td>\n",
       "      <td>5.682800e+04</td>\n",
       "      <td>5.739175e+04</td>\n",
       "      <td>5.940425e+04</td>\n",
       "      <td>6.411500e+04</td>\n",
       "      <td>8.202760e+01</td>\n",
       "      <td>6.310400e+04</td>\n",
       "      <td>6.923300e+04</td>\n",
       "      <td>6.304125e+04</td>\n",
       "      <td>6.360700e+04</td>\n",
       "      <td>8.338313e+01</td>\n",
       "      <td>6.608525e+04</td>\n",
       "      <td>7.001100e+04</td>\n",
       "      <td>7.597875e+04</td>\n",
       "      <td>8.558375e+04</td>\n",
       "      <td>9.134300e+04</td>\n",
       "      <td>4.383130e+05</td>\n",
       "      <td>4.246125e+05</td>\n",
       "      <td>4.316250e+05</td>\n",
       "      <td>4.244605e+05</td>\n",
       "      <td>7.954000e+04</td>\n",
       "      <td>4.371055e+05</td>\n",
       "      <td>4.909700e+05</td>\n",
       "      <td>3.768212e+05</td>\n",
       "      <td>1.867360e+05</td>\n",
       "      <td>3.343950e+04</td>\n",
       "      <td>1.746540e+05</td>\n",
       "      <td>1.770990e+05</td>\n",
       "      <td>1.474790e+05</td>\n",
       "      <td>1.584082e+05</td>\n",
       "      <td>2.993150e+04</td>\n",
       "      <td>1.187198e+05</td>\n",
       "      <td>1.343790e+05</td>\n",
       "      <td>1.453855e+05</td>\n",
       "      <td>1.180412e+05</td>\n",
       "      <td>3.121000e+03</td>\n",
       "      <td>1.065065e+05</td>\n",
       "      <td>1.038168e+05</td>\n",
       "      <td>1.426480e+05</td>\n",
       "      <td>1.636440e+05</td>\n",
       "      <td>6.153575e+04</td>\n",
       "      <td>5.939590e+05</td>\n",
       "      <td>3.000000</td>\n",
       "      <td>6.660000e+00</td>\n",
       "      <td>6.900000e+00</td>\n",
       "      <td>7.062500e+00</td>\n",
       "      <td>7.300000e+00</td>\n",
       "      <td>7.400000e+00</td>\n",
       "      <td>7.432500e+00</td>\n",
       "      <td>7.500000e+00</td>\n",
       "      <td>7.500000e+00</td>\n",
       "      <td>7.505000e+00</td>\n",
       "      <td>7.500000e+00</td>\n",
       "      <td>7.300000e+00</td>\n",
       "      <td>7.100000e+00</td>\n",
       "      <td>6.722500e+00</td>\n",
       "      <td>6.080000e+00</td>\n",
       "      <td>5.462500e+00</td>\n",
       "      <td>4.680000e+00</td>\n",
       "      <td>4.032500e+00</td>\n",
       "    </tr>\n",
       "    <tr>\n",
       "      <th>max</th>\n",
       "      <td>1.903929e+13</td>\n",
       "      <td>1.986457e+13</td>\n",
       "      <td>2.100916e+13</td>\n",
       "      <td>2.238367e+13</td>\n",
       "      <td>2.282991e+13</td>\n",
       "      <td>2.300634e+13</td>\n",
       "      <td>2.424128e+13</td>\n",
       "      <td>2.521383e+13</td>\n",
       "      <td>2.622101e+13</td>\n",
       "      <td>2.730873e+13</td>\n",
       "      <td>2.784319e+13</td>\n",
       "      <td>2.837926e+13</td>\n",
       "      <td>2.848067e+13</td>\n",
       "      <td>2.916436e+13</td>\n",
       "      <td>3.048521e+13</td>\n",
       "      <td>3.166465e+13</td>\n",
       "      <td>3.271284e+13</td>\n",
       "      <td>3.388244e+13</td>\n",
       "      <td>3.545738e+13</td>\n",
       "      <td>3.678741e+13</td>\n",
       "      <td>4.714344e+13</td>\n",
       "      <td>4.781272e+13</td>\n",
       "      <td>4.866446e+13</td>\n",
       "      <td>4.959600e+13</td>\n",
       "      <td>5.106581e+13</td>\n",
       "      <td>5.275448e+13</td>\n",
       "      <td>5.478031e+13</td>\n",
       "      <td>5.695521e+13</td>\n",
       "      <td>5.835137e+13</td>\n",
       "      <td>6.040632e+13</td>\n",
       "      <td>6.327293e+13</td>\n",
       "      <td>6.477834e+13</td>\n",
       "      <td>6.654753e+13</td>\n",
       "      <td>6.906328e+13</td>\n",
       "      <td>7.278829e+13</td>\n",
       "      <td>7.624045e+13</td>\n",
       "      <td>8.031840e+13</td>\n",
       "      <td>8.469145e+13</td>\n",
       "      <td>8.711022e+13</td>\n",
       "      <td>8.677516e+13</td>\n",
       "      <td>9.134676e+13</td>\n",
       "      <td>9.506314e+13</td>\n",
       "      <td>9.999473e+13</td>\n",
       "      <td>1.054580e+14</td>\n",
       "      <td>1.108060e+14</td>\n",
       "      <td>1.156198e+14</td>\n",
       "      <td>1.206030e+14</td>\n",
       "      <td>4.000000</td>\n",
       "      <td>1.599479e+06</td>\n",
       "      <td>1.781898e+06</td>\n",
       "      <td>1.967258e+06</td>\n",
       "      <td>2.151416e+06</td>\n",
       "      <td>2.330336e+06</td>\n",
       "      <td>2.500439e+06</td>\n",
       "      <td>2.662071e+06</td>\n",
       "      <td>2.813670e+06</td>\n",
       "      <td>2.951569e+06</td>\n",
       "      <td>3.070879e+06</td>\n",
       "      <td>3.169711e+06</td>\n",
       "      <td>3.246239e+06</td>\n",
       "      <td>3.301586e+06</td>\n",
       "      <td>3.337871e+06</td>\n",
       "      <td>3.354746e+06</td>\n",
       "      <td>3.351887e+06</td>\n",
       "      <td>3.330484e+06</td>\n",
       "    </tr>\n",
       "  </tbody>\n",
       "</table>\n",
       "</div>"
      ],
      "text/plain": [
       "               1970          1971          1972          1973          1974  \\\n",
       "count  7.228800e+04  3.553700e+04  3.561900e+04  3.554500e+04  3.573000e+04   \n",
       "mean   1.974772e+09  4.253638e+09  4.592365e+09  5.105006e+09  5.401493e+09   \n",
       "std    1.211687e+11  1.804814e+11  1.914083e+11  2.059170e+11  2.112150e+11   \n",
       "min   -1.435564e+00 -1.594625e+00 -3.056522e+00 -4.032582e+00 -4.213563e+00   \n",
       "25%    8.900000e-01  8.853210e+00  9.240920e+00  9.595200e+00  9.861595e+00   \n",
       "50%    6.317724e+00  6.316240e+01  6.655139e+01  6.969595e+01  7.087760e+01   \n",
       "75%    6.251250e+01  5.655200e+04  5.863650e+04  6.202900e+04  6.383675e+04   \n",
       "max    1.903929e+13  1.986457e+13  2.100916e+13  2.238367e+13  2.282991e+13   \n",
       "\n",
       "               1975          1976          1977          1978          1979  \\\n",
       "count  8.730600e+04  3.748300e+04  3.757400e+04  3.757600e+04  3.680900e+04   \n",
       "mean   2.314288e+09  5.731808e+09  6.124437e+09  6.671489e+09  7.436724e+09   \n",
       "std    1.375059e+11  2.215546e+11  2.325489e+11  2.473986e+11  2.660957e+11   \n",
       "min   -3.658569e+00 -2.950945e+00 -3.174870e+00 -3.558749e+00 -2.973612e+00   \n",
       "25%    1.400000e+00  9.312615e+00  9.519913e+00  1.000000e+01  1.000000e+01   \n",
       "50%    9.677420e+00  7.101590e+01  7.133326e+01  7.290512e+01  7.510173e+01   \n",
       "75%    7.854163e+01  5.682800e+04  5.739175e+04  5.940425e+04  6.411500e+04   \n",
       "max    2.300634e+13  2.424128e+13  2.521383e+13  2.622101e+13  2.730873e+13   \n",
       "\n",
       "               1980          1981          1982          1983          1984  \\\n",
       "count  8.912200e+04  3.877700e+04  3.751100e+04  3.846000e+04  3.860600e+04   \n",
       "mean   3.283898e+09  7.664969e+09  7.913722e+09  7.856908e+09  8.118002e+09   \n",
       "std    1.780774e+11  2.744142e+11  2.790549e+11  2.823809e+11  2.940635e+11   \n",
       "min   -1.404240e+00 -1.478345e+00 -2.358765e+00 -2.867273e+00 -2.800548e+00   \n",
       "25%    1.770000e+00  9.468690e+00  9.989330e+00  9.581825e+00  9.068048e+00   \n",
       "50%    1.107000e+01  7.467213e+01  7.710972e+01  7.592528e+01  7.533138e+01   \n",
       "75%    8.202760e+01  6.310400e+04  6.923300e+04  6.304125e+04  6.360700e+04   \n",
       "max    2.784319e+13  2.837926e+13  2.848067e+13  2.916436e+13  3.048521e+13   \n",
       "\n",
       "               1985          1986          1987          1988          1989  \\\n",
       "count  9.029600e+04  3.937200e+04  3.864100e+04  3.855200e+04  3.754000e+04   \n",
       "mean   3.622763e+09  9.156550e+09  1.014901e+10  1.104709e+10  1.195436e+10   \n",
       "std    2.002929e+11  3.264675e+11  3.535351e+11  3.804257e+11  4.014873e+11   \n",
       "min   -2.216315e+00 -1.556722e+00 -1.410886e+00 -1.425202e+00 -1.562425e+00   \n",
       "25%    2.150000e+00  9.332923e+00  9.595330e+00  9.715503e+00  9.679637e+00   \n",
       "50%    1.200000e+01  7.409428e+01  7.357014e+01  7.354275e+01  7.935322e+01   \n",
       "75%    8.338313e+01  6.608525e+04  7.001100e+04  7.597875e+04  8.558375e+04   \n",
       "max    3.166465e+13  3.271284e+13  3.388244e+13  3.545738e+13  3.678741e+13   \n",
       "\n",
       "               1990          1991          1992          1993          1994  \\\n",
       "count  1.244050e+05  7.443700e+04  7.554300e+04  7.579300e+04  7.746200e+04   \n",
       "mean   9.084424e+09  1.571674e+10  1.604668e+10  1.643532e+10  1.684022e+10   \n",
       "std    3.665667e+11  4.881357e+11  5.012055e+11  5.121962e+11  5.292982e+11   \n",
       "min   -1.803750e+00 -5.814339e+00 -5.089333e+00 -6.184857e+00 -4.792691e+00   \n",
       "25%    4.830000e+00  5.134554e+01  4.933854e+01  4.944877e+01  4.783283e+01   \n",
       "50%    5.048379e+01  3.916000e+04  3.477300e+04  3.497100e+04  3.182500e+04   \n",
       "75%    9.134300e+04  4.383130e+05  4.246125e+05  4.316250e+05  4.244605e+05   \n",
       "max    4.714344e+13  4.781272e+13  4.866446e+13  4.959600e+13  5.106581e+13   \n",
       "\n",
       "               1995          1996          1997          1998          1999  \\\n",
       "count  1.313610e+05  7.680700e+04  7.345300e+04  8.491400e+04  1.188390e+05   \n",
       "mean   1.052543e+10  1.874630e+10  2.027385e+10  1.794678e+10  1.331558e+10   \n",
       "std    4.285218e+11  5.812586e+11  6.142357e+11  5.859148e+11  5.153472e+11   \n",
       "min   -2.697722e+00 -3.820174e+00 -2.517245e+00 -6.086200e+04 -6.526000e+04   \n",
       "25%    5.200000e+00  4.836486e+01  5.510854e+01  3.346871e+01  1.749051e+01   \n",
       "50%    5.018663e+01  3.262400e+04  4.319600e+04  1.521400e+04  1.251000e+03   \n",
       "75%    7.954000e+04  4.371055e+05  4.909700e+05  3.768212e+05  1.867360e+05   \n",
       "max    5.275448e+13  5.478031e+13  5.695521e+13  5.835137e+13  6.040632e+13   \n",
       "\n",
       "               2000          2001          2002          2003          2004  \\\n",
       "count  1.766760e+05  1.235090e+05  1.242050e+05  1.303630e+05  1.288140e+05   \n",
       "mean   9.423384e+09  1.384867e+10  1.428299e+10  1.449393e+10  1.589729e+10   \n",
       "std    4.442374e+11  5.449242e+11  5.622886e+11  5.803607e+11  6.278337e+11   \n",
       "min   -6.759300e+04 -6.973700e+04 -9.214300e+04 -1.111860e+05 -1.262600e+05   \n",
       "25%    5.699035e+00  1.599897e+01  1.584246e+01  1.550983e+01  1.418687e+01   \n",
       "50%    5.078717e+01  8.300000e+02  9.460000e+02  3.956150e+02  3.350000e+02   \n",
       "75%    3.343950e+04  1.746540e+05  1.770990e+05  1.474790e+05  1.584082e+05   \n",
       "max    6.327293e+13  6.477834e+13  6.654753e+13  6.906328e+13  7.278829e+13   \n",
       "\n",
       "               2005          2006          2007          2008          2009  \\\n",
       "count  1.841080e+05  1.403120e+05  1.372720e+05  1.343870e+05  1.421080e+05   \n",
       "mean   1.188637e+10  1.684674e+10  1.872300e+10  2.029794e+10  1.894907e+10   \n",
       "std    5.576181e+11  6.851484e+11  7.465688e+11  7.944132e+11  7.623650e+11   \n",
       "min   -1.347240e+05 -3.708940e+05 -3.882170e+05 -4.088540e+05 -4.561240e+05   \n",
       "25%    5.720000e+00  1.277624e+01  1.268661e+01  1.233467e+01  1.181939e+01   \n",
       "50%    5.031512e+01  9.981849e+01  1.000000e+02  1.000000e+02  9.925039e+01   \n",
       "75%    2.993150e+04  1.187198e+05  1.343790e+05  1.453855e+05  1.180412e+05   \n",
       "max    7.624045e+13  8.031840e+13  8.469145e+13  8.711022e+13  8.677516e+13   \n",
       "\n",
       "               2010          2011          2012          2013          2014  \\\n",
       "count  2.424420e+05  1.460120e+05  1.472640e+05  1.375090e+05  1.137890e+05   \n",
       "mean   1.189592e+10  2.117911e+10  2.176323e+10  2.425332e+10  2.678449e+10   \n",
       "std    6.218710e+11  8.555853e+11  8.833955e+11  9.513016e+11  1.023180e+12   \n",
       "min   -4.969050e+05 -5.709940e+05 -6.049930e+05 -6.157480e+05 -8.900000e+01   \n",
       "25%    1.322703e+00  1.216330e+01  1.100000e+01  1.306113e+01  1.614639e+01   \n",
       "50%    2.046020e+01  9.853510e+01  9.759012e+01  1.000000e+02  1.000000e+02   \n",
       "75%    3.121000e+03  1.065065e+05  1.038168e+05  1.426480e+05  1.636440e+05   \n",
       "max    9.134676e+13  9.506314e+13  9.999473e+13  1.054580e+14  1.108060e+14   \n",
       "\n",
       "               2015          2016        2017          2020          2025  \\\n",
       "count  1.310580e+05  1.646000e+04  143.000000  5.143600e+04  5.143600e+04   \n",
       "mean   2.353720e+10  1.934411e+11    2.160839  5.780697e+02  6.054774e+02   \n",
       "std    9.732465e+11  2.839188e+12    0.810584  1.475072e+04  1.577305e+04   \n",
       "min   -2.467847e+00 -1.797539e+00    1.000000 -1.870000e+00 -2.000000e+00   \n",
       "25%    4.100000e-01  1.826761e+01    2.000000  6.000000e-02  6.000000e-02   \n",
       "50%    5.235000e+01  6.264000e+03    2.000000  2.300000e-01  2.300000e-01   \n",
       "75%    6.153575e+04  5.939590e+05    3.000000  6.660000e+00  6.900000e+00   \n",
       "max    1.156198e+14  1.206030e+14    4.000000  1.599479e+06  1.781898e+06   \n",
       "\n",
       "               2030          2035          2040          2045          2050  \\\n",
       "count  5.143600e+04  5.143600e+04  5.143600e+04  5.143600e+04  5.143600e+04   \n",
       "mean   6.315916e+02  6.556516e+02  6.751516e+02  6.911287e+02  7.040640e+02   \n",
       "std    1.678556e+04  1.778666e+04  1.874408e+04  1.965409e+04  2.052941e+04   \n",
       "min   -2.110000e+00 -2.150000e+00 -2.140000e+00 -2.090000e+00 -1.980000e+00   \n",
       "25%    6.000000e-02  6.000000e-02  5.000000e-02  5.000000e-02  4.000000e-02   \n",
       "50%    2.300000e-01  2.300000e-01  2.300000e-01  2.300000e-01  2.300000e-01   \n",
       "75%    7.062500e+00  7.300000e+00  7.400000e+00  7.432500e+00  7.500000e+00   \n",
       "max    1.967258e+06  2.151416e+06  2.330336e+06  2.500439e+06  2.662071e+06   \n",
       "\n",
       "               2055          2060          2065          2070          2075  \\\n",
       "count  5.143600e+04  5.143600e+04  5.143600e+04  5.143600e+04  5.143600e+04   \n",
       "mean   7.145788e+02  7.224868e+02  7.271290e+02  7.283779e+02  7.266484e+02   \n",
       "std    2.136851e+04  2.215845e+04  2.287990e+04  2.352338e+04  2.408149e+04   \n",
       "min   -1.830000e+00 -1.630000e+00 -1.440000e+00 -1.260000e+00 -1.090000e+00   \n",
       "25%    3.000000e-02  3.000000e-02  3.000000e-02  2.000000e-02  2.000000e-02   \n",
       "50%    2.300000e-01  2.300000e-01  2.300000e-01  2.300000e-01  2.300000e-01   \n",
       "75%    7.500000e+00  7.505000e+00  7.500000e+00  7.300000e+00  7.100000e+00   \n",
       "max    2.813670e+06  2.951569e+06  3.070879e+06  3.169711e+06  3.246239e+06   \n",
       "\n",
       "               2080          2085          2090          2095          2100  \n",
       "count  5.143600e+04  5.143600e+04  5.143600e+04  5.143600e+04  5.143600e+04  \n",
       "mean   7.228327e+02  7.176899e+02  7.113072e+02  7.034274e+02  6.940296e+02  \n",
       "std    2.455897e+04  2.496587e+04  2.530183e+04  2.556069e+04  2.574189e+04  \n",
       "min   -9.200000e-01 -7.800000e-01 -6.500000e-01 -5.500000e-01 -4.500000e-01  \n",
       "25%    1.000000e-02  1.000000e-02  1.000000e-02  1.000000e-02  1.000000e-02  \n",
       "50%    2.300000e-01  2.300000e-01  2.300000e-01  2.300000e-01  2.200000e-01  \n",
       "75%    6.722500e+00  6.080000e+00  5.462500e+00  4.680000e+00  4.032500e+00  \n",
       "max    3.301586e+06  3.337871e+06  3.354746e+06  3.351887e+06  3.330484e+06  "
      ]
     },
     "execution_count": 6,
     "metadata": {},
     "output_type": "execute_result"
    }
   ],
   "source": [
    "# Describe\n",
    "df_stats.get_df().describe()"
   ]
  },
  {
   "cell_type": "code",
   "execution_count": 7,
   "metadata": {},
   "outputs": [
    {
     "data": {
      "text/html": [
       "<div>\n",
       "<style scoped>\n",
       "    .dataframe tbody tr th:only-of-type {\n",
       "        vertical-align: middle;\n",
       "    }\n",
       "\n",
       "    .dataframe tbody tr th {\n",
       "        vertical-align: top;\n",
       "    }\n",
       "\n",
       "    .dataframe thead th {\n",
       "        text-align: right;\n",
       "    }\n",
       "</style>\n",
       "<table border=\"1\" class=\"dataframe\">\n",
       "  <thead>\n",
       "    <tr style=\"text-align: right;\">\n",
       "      <th></th>\n",
       "      <th>0</th>\n",
       "      <th>1</th>\n",
       "      <th>2</th>\n",
       "      <th>3</th>\n",
       "      <th>4</th>\n",
       "      <th>5</th>\n",
       "      <th>6</th>\n",
       "      <th>7</th>\n",
       "      <th>8</th>\n",
       "      <th>9</th>\n",
       "      <th>10</th>\n",
       "      <th>11</th>\n",
       "      <th>12</th>\n",
       "      <th>13</th>\n",
       "      <th>14</th>\n",
       "      <th>15</th>\n",
       "      <th>16</th>\n",
       "      <th>17</th>\n",
       "      <th>18</th>\n",
       "      <th>19</th>\n",
       "      <th>20</th>\n",
       "      <th>21</th>\n",
       "      <th>22</th>\n",
       "      <th>23</th>\n",
       "      <th>24</th>\n",
       "      <th>25</th>\n",
       "      <th>26</th>\n",
       "      <th>27</th>\n",
       "      <th>28</th>\n",
       "      <th>29</th>\n",
       "      <th>30</th>\n",
       "      <th>31</th>\n",
       "      <th>32</th>\n",
       "      <th>33</th>\n",
       "      <th>34</th>\n",
       "      <th>35</th>\n",
       "      <th>36</th>\n",
       "      <th>37</th>\n",
       "      <th>38</th>\n",
       "      <th>39</th>\n",
       "      <th>40</th>\n",
       "      <th>41</th>\n",
       "      <th>42</th>\n",
       "      <th>43</th>\n",
       "      <th>44</th>\n",
       "      <th>45</th>\n",
       "      <th>46</th>\n",
       "      <th>47</th>\n",
       "      <th>48</th>\n",
       "      <th>49</th>\n",
       "      <th>50</th>\n",
       "      <th>51</th>\n",
       "      <th>52</th>\n",
       "      <th>53</th>\n",
       "      <th>54</th>\n",
       "      <th>55</th>\n",
       "      <th>56</th>\n",
       "      <th>57</th>\n",
       "      <th>58</th>\n",
       "      <th>59</th>\n",
       "      <th>60</th>\n",
       "      <th>61</th>\n",
       "      <th>62</th>\n",
       "      <th>63</th>\n",
       "      <th>64</th>\n",
       "      <th>65</th>\n",
       "      <th>66</th>\n",
       "      <th>67</th>\n",
       "      <th>68</th>\n",
       "    </tr>\n",
       "  </thead>\n",
       "  <tbody>\n",
       "    <tr>\n",
       "      <th>features</th>\n",
       "      <td>Country Name</td>\n",
       "      <td>Country Code</td>\n",
       "      <td>Indicator Name</td>\n",
       "      <td>Indicator Code</td>\n",
       "      <td>1970</td>\n",
       "      <td>1971</td>\n",
       "      <td>1972</td>\n",
       "      <td>1973</td>\n",
       "      <td>1974</td>\n",
       "      <td>1975</td>\n",
       "      <td>1976</td>\n",
       "      <td>1977</td>\n",
       "      <td>1978</td>\n",
       "      <td>1979</td>\n",
       "      <td>1980</td>\n",
       "      <td>1981</td>\n",
       "      <td>1982</td>\n",
       "      <td>1983</td>\n",
       "      <td>1984</td>\n",
       "      <td>1985</td>\n",
       "      <td>1986</td>\n",
       "      <td>1987</td>\n",
       "      <td>1988</td>\n",
       "      <td>1989</td>\n",
       "      <td>1990</td>\n",
       "      <td>1991</td>\n",
       "      <td>1992</td>\n",
       "      <td>1993</td>\n",
       "      <td>1994</td>\n",
       "      <td>1995</td>\n",
       "      <td>1996</td>\n",
       "      <td>1997</td>\n",
       "      <td>1998</td>\n",
       "      <td>1999</td>\n",
       "      <td>2000</td>\n",
       "      <td>2001</td>\n",
       "      <td>2002</td>\n",
       "      <td>2003</td>\n",
       "      <td>2004</td>\n",
       "      <td>2005</td>\n",
       "      <td>2006</td>\n",
       "      <td>2007</td>\n",
       "      <td>2008</td>\n",
       "      <td>2009</td>\n",
       "      <td>2010</td>\n",
       "      <td>2011</td>\n",
       "      <td>2012</td>\n",
       "      <td>2013</td>\n",
       "      <td>2014</td>\n",
       "      <td>2015</td>\n",
       "      <td>2016</td>\n",
       "      <td>2017</td>\n",
       "      <td>2020</td>\n",
       "      <td>2025</td>\n",
       "      <td>2030</td>\n",
       "      <td>2035</td>\n",
       "      <td>2040</td>\n",
       "      <td>2045</td>\n",
       "      <td>2050</td>\n",
       "      <td>2055</td>\n",
       "      <td>2060</td>\n",
       "      <td>2065</td>\n",
       "      <td>2070</td>\n",
       "      <td>2075</td>\n",
       "      <td>2080</td>\n",
       "      <td>2085</td>\n",
       "      <td>2090</td>\n",
       "      <td>2095</td>\n",
       "      <td>2100</td>\n",
       "    </tr>\n",
       "    <tr>\n",
       "      <th>null_count</th>\n",
       "      <td>0</td>\n",
       "      <td>0</td>\n",
       "      <td>0</td>\n",
       "      <td>0</td>\n",
       "      <td>814642</td>\n",
       "      <td>851393</td>\n",
       "      <td>851311</td>\n",
       "      <td>851385</td>\n",
       "      <td>851200</td>\n",
       "      <td>799624</td>\n",
       "      <td>849447</td>\n",
       "      <td>849356</td>\n",
       "      <td>849354</td>\n",
       "      <td>850121</td>\n",
       "      <td>797808</td>\n",
       "      <td>848153</td>\n",
       "      <td>849419</td>\n",
       "      <td>848470</td>\n",
       "      <td>848324</td>\n",
       "      <td>796634</td>\n",
       "      <td>847558</td>\n",
       "      <td>848289</td>\n",
       "      <td>848378</td>\n",
       "      <td>849390</td>\n",
       "      <td>762525</td>\n",
       "      <td>812493</td>\n",
       "      <td>811387</td>\n",
       "      <td>811137</td>\n",
       "      <td>809468</td>\n",
       "      <td>755569</td>\n",
       "      <td>810123</td>\n",
       "      <td>813477</td>\n",
       "      <td>802016</td>\n",
       "      <td>768091</td>\n",
       "      <td>710254</td>\n",
       "      <td>763421</td>\n",
       "      <td>762725</td>\n",
       "      <td>756567</td>\n",
       "      <td>758116</td>\n",
       "      <td>702822</td>\n",
       "      <td>746618</td>\n",
       "      <td>749658</td>\n",
       "      <td>752543</td>\n",
       "      <td>744822</td>\n",
       "      <td>644488</td>\n",
       "      <td>740918</td>\n",
       "      <td>739666</td>\n",
       "      <td>749421</td>\n",
       "      <td>773141</td>\n",
       "      <td>755872</td>\n",
       "      <td>870470</td>\n",
       "      <td>886787</td>\n",
       "      <td>835494</td>\n",
       "      <td>835494</td>\n",
       "      <td>835494</td>\n",
       "      <td>835494</td>\n",
       "      <td>835494</td>\n",
       "      <td>835494</td>\n",
       "      <td>835494</td>\n",
       "      <td>835494</td>\n",
       "      <td>835494</td>\n",
       "      <td>835494</td>\n",
       "      <td>835494</td>\n",
       "      <td>835494</td>\n",
       "      <td>835494</td>\n",
       "      <td>835494</td>\n",
       "      <td>835494</td>\n",
       "      <td>835494</td>\n",
       "      <td>835494</td>\n",
       "    </tr>\n",
       "    <tr>\n",
       "      <th>null_pct</th>\n",
       "      <td>0.0</td>\n",
       "      <td>0.0</td>\n",
       "      <td>0.0</td>\n",
       "      <td>0.0</td>\n",
       "      <td>91.85</td>\n",
       "      <td>95.99</td>\n",
       "      <td>95.98</td>\n",
       "      <td>95.99</td>\n",
       "      <td>95.97</td>\n",
       "      <td>90.16</td>\n",
       "      <td>95.77</td>\n",
       "      <td>95.76</td>\n",
       "      <td>95.76</td>\n",
       "      <td>95.85</td>\n",
       "      <td>89.95</td>\n",
       "      <td>95.63</td>\n",
       "      <td>95.77</td>\n",
       "      <td>95.66</td>\n",
       "      <td>95.65</td>\n",
       "      <td>89.82</td>\n",
       "      <td>95.56</td>\n",
       "      <td>95.64</td>\n",
       "      <td>95.65</td>\n",
       "      <td>95.77</td>\n",
       "      <td>85.97</td>\n",
       "      <td>91.61</td>\n",
       "      <td>91.48</td>\n",
       "      <td>91.45</td>\n",
       "      <td>91.27</td>\n",
       "      <td>85.19</td>\n",
       "      <td>91.34</td>\n",
       "      <td>91.72</td>\n",
       "      <td>90.43</td>\n",
       "      <td>86.6</td>\n",
       "      <td>80.08</td>\n",
       "      <td>86.07</td>\n",
       "      <td>86.0</td>\n",
       "      <td>85.3</td>\n",
       "      <td>85.48</td>\n",
       "      <td>79.24</td>\n",
       "      <td>84.18</td>\n",
       "      <td>84.52</td>\n",
       "      <td>84.85</td>\n",
       "      <td>83.98</td>\n",
       "      <td>72.67</td>\n",
       "      <td>83.54</td>\n",
       "      <td>83.4</td>\n",
       "      <td>84.5</td>\n",
       "      <td>87.17</td>\n",
       "      <td>85.22</td>\n",
       "      <td>98.14</td>\n",
       "      <td>99.98</td>\n",
       "      <td>94.2</td>\n",
       "      <td>94.2</td>\n",
       "      <td>94.2</td>\n",
       "      <td>94.2</td>\n",
       "      <td>94.2</td>\n",
       "      <td>94.2</td>\n",
       "      <td>94.2</td>\n",
       "      <td>94.2</td>\n",
       "      <td>94.2</td>\n",
       "      <td>94.2</td>\n",
       "      <td>94.2</td>\n",
       "      <td>94.2</td>\n",
       "      <td>94.2</td>\n",
       "      <td>94.2</td>\n",
       "      <td>94.2</td>\n",
       "      <td>94.2</td>\n",
       "      <td>94.2</td>\n",
       "    </tr>\n",
       "  </tbody>\n",
       "</table>\n",
       "</div>"
      ],
      "text/plain": [
       "                      0             1               2               3   \\\n",
       "features    Country Name  Country Code  Indicator Name  Indicator Code   \n",
       "null_count             0             0               0               0   \n",
       "null_pct             0.0           0.0             0.0             0.0   \n",
       "\n",
       "                4       5       6       7       8       9       10      11  \\\n",
       "features      1970    1971    1972    1973    1974    1975    1976    1977   \n",
       "null_count  814642  851393  851311  851385  851200  799624  849447  849356   \n",
       "null_pct     91.85   95.99   95.98   95.99   95.97   90.16   95.77   95.76   \n",
       "\n",
       "                12      13      14      15      16      17      18      19  \\\n",
       "features      1978    1979    1980    1981    1982    1983    1984    1985   \n",
       "null_count  849354  850121  797808  848153  849419  848470  848324  796634   \n",
       "null_pct     95.76   95.85   89.95   95.63   95.77   95.66   95.65   89.82   \n",
       "\n",
       "                20      21      22      23      24      25      26      27  \\\n",
       "features      1986    1987    1988    1989    1990    1991    1992    1993   \n",
       "null_count  847558  848289  848378  849390  762525  812493  811387  811137   \n",
       "null_pct     95.56   95.64   95.65   95.77   85.97   91.61   91.48   91.45   \n",
       "\n",
       "                28      29      30      31      32      33      34      35  \\\n",
       "features      1994    1995    1996    1997    1998    1999    2000    2001   \n",
       "null_count  809468  755569  810123  813477  802016  768091  710254  763421   \n",
       "null_pct     91.27   85.19   91.34   91.72   90.43    86.6   80.08   86.07   \n",
       "\n",
       "                36      37      38      39      40      41      42      43  \\\n",
       "features      2002    2003    2004    2005    2006    2007    2008    2009   \n",
       "null_count  762725  756567  758116  702822  746618  749658  752543  744822   \n",
       "null_pct      86.0    85.3   85.48   79.24   84.18   84.52   84.85   83.98   \n",
       "\n",
       "                44      45      46      47      48      49      50      51  \\\n",
       "features      2010    2011    2012    2013    2014    2015    2016    2017   \n",
       "null_count  644488  740918  739666  749421  773141  755872  870470  886787   \n",
       "null_pct     72.67   83.54    83.4    84.5   87.17   85.22   98.14   99.98   \n",
       "\n",
       "                52      53      54      55      56      57      58      59  \\\n",
       "features      2020    2025    2030    2035    2040    2045    2050    2055   \n",
       "null_count  835494  835494  835494  835494  835494  835494  835494  835494   \n",
       "null_pct      94.2    94.2    94.2    94.2    94.2    94.2    94.2    94.2   \n",
       "\n",
       "                60      61      62      63      64      65      66      67  \\\n",
       "features      2060    2065    2070    2075    2080    2085    2090    2095   \n",
       "null_count  835494  835494  835494  835494  835494  835494  835494  835494   \n",
       "null_pct      94.2    94.2    94.2    94.2    94.2    94.2    94.2    94.2   \n",
       "\n",
       "                68  \n",
       "features      2100  \n",
       "null_count  835494  \n",
       "null_pct      94.2  "
      ]
     },
     "execution_count": 7,
     "metadata": {},
     "output_type": "execute_result"
    }
   ],
   "source": [
    "# null/missing values\n",
    "df_stats.get_null_info().T"
   ]
  },
  {
   "cell_type": "code",
   "execution_count": 8,
   "metadata": {},
   "outputs": [
    {
     "data": {
      "image/png": "[encoded data removed]",
      "text/plain": [
       "<Figure size 1400x1600 with 1 Axes>"
      ]
     },
     "metadata": {},
     "output_type": "display_data"
    }
   ],
   "source": [
    "# missing/null visualization\n",
    "plt.rcParams['figure.figsize'] = (14,16)\n",
    "df_stats.show_null_info()"
   ]
  },
  {
   "cell_type": "markdown",
   "metadata": {
    "id": "gfoNAAC-nUe_"
   },
   "source": [
    "1. This file contains country_wise information from year 1970 to 2100.\n",
    "2. more than 80% null values are present in all the columns except 'Country Name', 'Country Code', 'Indicator Name', 'Indicator Code'."
   ]
  },
  {
   "cell_type": "markdown",
   "metadata": {
    "jp-MarkdownHeadingCollapsed": true
   },
   "source": [
    "### 2. Ed_stats_country"
   ]
  },
  {
   "cell_type": "code",
   "execution_count": 9,
   "metadata": {},
   "outputs": [
    {
     "name": "stdout",
     "output_type": "stream",
     "text": [
      "Shape : (241, 31)\n"
     ]
    },
    {
     "data": {
      "text/html": [
       "<div>\n",
       "<style scoped>\n",
       "    .dataframe tbody tr th:only-of-type {\n",
       "        vertical-align: middle;\n",
       "    }\n",
       "\n",
       "    .dataframe tbody tr th {\n",
       "        vertical-align: top;\n",
       "    }\n",
       "\n",
       "    .dataframe thead th {\n",
       "        text-align: right;\n",
       "    }\n",
       "</style>\n",
       "<table border=\"1\" class=\"dataframe\">\n",
       "  <thead>\n",
       "    <tr style=\"text-align: right;\">\n",
       "      <th></th>\n",
       "      <th>Country Code</th>\n",
       "      <th>Short Name</th>\n",
       "      <th>Table Name</th>\n",
       "      <th>Long Name</th>\n",
       "      <th>2-alpha code</th>\n",
       "      <th>Currency Unit</th>\n",
       "      <th>Special Notes</th>\n",
       "      <th>Region</th>\n",
       "      <th>Income Group</th>\n",
       "      <th>WB-2 code</th>\n",
       "      <th>National accounts base year</th>\n",
       "      <th>National accounts reference year</th>\n",
       "      <th>SNA price valuation</th>\n",
       "      <th>Lending category</th>\n",
       "      <th>Other groups</th>\n",
       "      <th>System of National Accounts</th>\n",
       "      <th>Alternative conversion factor</th>\n",
       "      <th>PPP survey year</th>\n",
       "      <th>Balance of Payments Manual in use</th>\n",
       "      <th>External debt Reporting status</th>\n",
       "      <th>System of trade</th>\n",
       "      <th>Government Accounting concept</th>\n",
       "      <th>IMF data dissemination standard</th>\n",
       "      <th>Latest population census</th>\n",
       "      <th>Latest household survey</th>\n",
       "      <th>Source of most recent Income and expenditure data</th>\n",
       "      <th>Vital registration complete</th>\n",
       "      <th>Latest agricultural census</th>\n",
       "      <th>Latest industrial data</th>\n",
       "      <th>Latest trade data</th>\n",
       "      <th>Latest water withdrawal data</th>\n",
       "    </tr>\n",
       "  </thead>\n",
       "  <tbody>\n",
       "    <tr>\n",
       "      <th>0</th>\n",
       "      <td>ABW</td>\n",
       "      <td>Aruba</td>\n",
       "      <td>Aruba</td>\n",
       "      <td>Aruba</td>\n",
       "      <td>AW</td>\n",
       "      <td>Aruban florin</td>\n",
       "      <td>SNA data for 2000-2011 are updated from offici...</td>\n",
       "      <td>Latin America &amp; Caribbean</td>\n",
       "      <td>High income: nonOECD</td>\n",
       "      <td>AW</td>\n",
       "      <td>2000</td>\n",
       "      <td>NaN</td>\n",
       "      <td>Value added at basic prices (VAB)</td>\n",
       "      <td>NaN</td>\n",
       "      <td>NaN</td>\n",
       "      <td>Country uses the 1993 System of National Accou...</td>\n",
       "      <td>NaN</td>\n",
       "      <td>NaN</td>\n",
       "      <td>IMF Balance of Payments Manual, 6th edition.</td>\n",
       "      <td>NaN</td>\n",
       "      <td>Special trade system</td>\n",
       "      <td>NaN</td>\n",
       "      <td>NaN</td>\n",
       "      <td>2010</td>\n",
       "      <td>NaN</td>\n",
       "      <td>NaN</td>\n",
       "      <td>Yes</td>\n",
       "      <td>NaN</td>\n",
       "      <td>NaN</td>\n",
       "      <td>2012.0</td>\n",
       "      <td>NaN</td>\n",
       "    </tr>\n",
       "    <tr>\n",
       "      <th>1</th>\n",
       "      <td>AFG</td>\n",
       "      <td>Afghanistan</td>\n",
       "      <td>Afghanistan</td>\n",
       "      <td>Islamic State of Afghanistan</td>\n",
       "      <td>AF</td>\n",
       "      <td>Afghan afghani</td>\n",
       "      <td>Fiscal year end: March 20; reporting period fo...</td>\n",
       "      <td>South Asia</td>\n",
       "      <td>Low income</td>\n",
       "      <td>AF</td>\n",
       "      <td>2002/03</td>\n",
       "      <td>NaN</td>\n",
       "      <td>Value added at basic prices (VAB)</td>\n",
       "      <td>IDA</td>\n",
       "      <td>HIPC</td>\n",
       "      <td>Country uses the 1993 System of National Accou...</td>\n",
       "      <td>NaN</td>\n",
       "      <td>NaN</td>\n",
       "      <td>NaN</td>\n",
       "      <td>Actual</td>\n",
       "      <td>General trade system</td>\n",
       "      <td>Consolidated central government</td>\n",
       "      <td>General Data Dissemination System (GDDS)</td>\n",
       "      <td>1979</td>\n",
       "      <td>Multiple Indicator Cluster Survey (MICS), 2010/11</td>\n",
       "      <td>Integrated household survey (IHS), 2008</td>\n",
       "      <td>NaN</td>\n",
       "      <td>2013/14</td>\n",
       "      <td>NaN</td>\n",
       "      <td>2012.0</td>\n",
       "      <td>2000</td>\n",
       "    </tr>\n",
       "    <tr>\n",
       "      <th>2</th>\n",
       "      <td>AGO</td>\n",
       "      <td>Angola</td>\n",
       "      <td>Angola</td>\n",
       "      <td>People's Republic of Angola</td>\n",
       "      <td>AO</td>\n",
       "      <td>Angolan kwanza</td>\n",
       "      <td>April 2013 database update: Based on IMF data,...</td>\n",
       "      <td>Sub-Saharan Africa</td>\n",
       "      <td>Upper middle income</td>\n",
       "      <td>AO</td>\n",
       "      <td>2002</td>\n",
       "      <td>NaN</td>\n",
       "      <td>Value added at producer prices (VAP)</td>\n",
       "      <td>IBRD</td>\n",
       "      <td>NaN</td>\n",
       "      <td>Country uses the 1993 System of National Accou...</td>\n",
       "      <td>1991–96</td>\n",
       "      <td>2005</td>\n",
       "      <td>IMF Balance of Payments Manual, 6th edition.</td>\n",
       "      <td>Actual</td>\n",
       "      <td>Special trade system</td>\n",
       "      <td>Budgetary central government</td>\n",
       "      <td>General Data Dissemination System (GDDS)</td>\n",
       "      <td>1970</td>\n",
       "      <td>Malaria Indicator Survey (MIS), 2011</td>\n",
       "      <td>Integrated household survey (IHS), 2008</td>\n",
       "      <td>NaN</td>\n",
       "      <td>2015</td>\n",
       "      <td>NaN</td>\n",
       "      <td>NaN</td>\n",
       "      <td>2005</td>\n",
       "    </tr>\n",
       "  </tbody>\n",
       "</table>\n",
       "</div>"
      ],
      "text/plain": [
       "  Country Code   Short Name   Table Name                     Long Name  \\\n",
       "0          ABW        Aruba        Aruba                         Aruba   \n",
       "1          AFG  Afghanistan  Afghanistan  Islamic State of Afghanistan   \n",
       "2          AGO       Angola       Angola   People's Republic of Angola   \n",
       "\n",
       "  2-alpha code   Currency Unit  \\\n",
       "0           AW   Aruban florin   \n",
       "1           AF  Afghan afghani   \n",
       "2           AO  Angolan kwanza   \n",
       "\n",
       "                                       Special Notes  \\\n",
       "0  SNA data for 2000-2011 are updated from offici...   \n",
       "1  Fiscal year end: March 20; reporting period fo...   \n",
       "2  April 2013 database update: Based on IMF data,...   \n",
       "\n",
       "                      Region          Income Group WB-2 code  \\\n",
       "0  Latin America & Caribbean  High income: nonOECD        AW   \n",
       "1                 South Asia            Low income        AF   \n",
       "2         Sub-Saharan Africa   Upper middle income        AO   \n",
       "\n",
       "  National accounts base year  National accounts reference year  \\\n",
       "0                        2000                               NaN   \n",
       "1                     2002/03                               NaN   \n",
       "2                        2002                               NaN   \n",
       "\n",
       "                    SNA price valuation Lending category Other groups  \\\n",
       "0     Value added at basic prices (VAB)              NaN          NaN   \n",
       "1     Value added at basic prices (VAB)              IDA         HIPC   \n",
       "2  Value added at producer prices (VAP)             IBRD          NaN   \n",
       "\n",
       "                         System of National Accounts  \\\n",
       "0  Country uses the 1993 System of National Accou...   \n",
       "1  Country uses the 1993 System of National Accou...   \n",
       "2  Country uses the 1993 System of National Accou...   \n",
       "\n",
       "  Alternative conversion factor PPP survey year  \\\n",
       "0                           NaN             NaN   \n",
       "1                           NaN             NaN   \n",
       "2                       1991–96            2005   \n",
       "\n",
       "              Balance of Payments Manual in use  \\\n",
       "0  IMF Balance of Payments Manual, 6th edition.   \n",
       "1                                           NaN   \n",
       "2  IMF Balance of Payments Manual, 6th edition.   \n",
       "\n",
       "  External debt Reporting status       System of trade  \\\n",
       "0                            NaN  Special trade system   \n",
       "1                         Actual  General trade system   \n",
       "2                         Actual  Special trade system   \n",
       "\n",
       "     Government Accounting concept           IMF data dissemination standard  \\\n",
       "0                              NaN                                       NaN   \n",
       "1  Consolidated central government  General Data Dissemination System (GDDS)   \n",
       "2     Budgetary central government  General Data Dissemination System (GDDS)   \n",
       "\n",
       "  Latest population census                            Latest household survey  \\\n",
       "0                     2010                                                NaN   \n",
       "1                     1979  Multiple Indicator Cluster Survey (MICS), 2010/11   \n",
       "2                     1970               Malaria Indicator Survey (MIS), 2011   \n",
       "\n",
       "  Source of most recent Income and expenditure data  \\\n",
       "0                                               NaN   \n",
       "1           Integrated household survey (IHS), 2008   \n",
       "2           Integrated household survey (IHS), 2008   \n",
       "\n",
       "  Vital registration complete Latest agricultural census  \\\n",
       "0                         Yes                        NaN   \n",
       "1                         NaN                    2013/14   \n",
       "2                         NaN                       2015   \n",
       "\n",
       "   Latest industrial data  Latest trade data Latest water withdrawal data  \n",
       "0                     NaN             2012.0                          NaN  \n",
       "1                     NaN             2012.0                         2000  \n",
       "2                     NaN                NaN                         2005  "
      ]
     },
     "execution_count": 9,
     "metadata": {},
     "output_type": "execute_result"
    }
   ],
   "source": [
    "df_stats_country = df(path_ed_stats_country)\n",
    "df_stats_country.get_df().head(3)"
   ]
  },
  {
   "cell_type": "code",
   "execution_count": 10,
   "metadata": {},
   "outputs": [
    {
     "name": "stdout",
     "output_type": "stream",
     "text": [
      "duplicate counts :  0\n",
      "\n",
      "columns :  Index(['Country Code', 'Short Name', 'Table Name', 'Long Name', '2-alpha code',\n",
      "       'Currency Unit', 'Special Notes', 'Region', 'Income Group', 'WB-2 code',\n",
      "       'National accounts base year', 'National accounts reference year',\n",
      "       'SNA price valuation', 'Lending category', 'Other groups',\n",
      "       'System of National Accounts', 'Alternative conversion factor',\n",
      "       'PPP survey year', 'Balance of Payments Manual in use',\n",
      "       'External debt Reporting status', 'System of trade',\n",
      "       'Government Accounting concept', 'IMF data dissemination standard',\n",
      "       'Latest population census', 'Latest household survey',\n",
      "       'Source of most recent Income and expenditure data',\n",
      "       'Vital registration complete', 'Latest agricultural census',\n",
      "       'Latest industrial data', 'Latest trade data',\n",
      "       'Latest water withdrawal data'],\n",
      "      dtype='object')\n",
      "\n",
      "info :\n",
      "<class 'pandas.core.frame.DataFrame'>\n",
      "RangeIndex: 241 entries, 0 to 240\n",
      "Data columns (total 31 columns):\n",
      " #   Column                                             Non-Null Count  Dtype  \n",
      "---  ------                                             --------------  -----  \n",
      " 0   Country Code                                       241 non-null    object \n",
      " 1   Short Name                                         241 non-null    object \n",
      " 2   Table Name                                         241 non-null    object \n",
      " 3   Long Name                                          241 non-null    object \n",
      " 4   2-alpha code                                       238 non-null    object \n",
      " 5   Currency Unit                                      215 non-null    object \n",
      " 6   Special Notes                                      145 non-null    object \n",
      " 7   Region                                             214 non-null    object \n",
      " 8   Income Group                                       214 non-null    object \n",
      " 9   WB-2 code                                          240 non-null    object \n",
      " 10  National accounts base year                        205 non-null    object \n",
      " 11  National accounts reference year                   32 non-null     float64\n",
      " 12  SNA price valuation                                197 non-null    object \n",
      " 13  Lending category                                   144 non-null    object \n",
      " 14  Other groups                                       58 non-null     object \n",
      " 15  System of National Accounts                        215 non-null    object \n",
      " 16  Alternative conversion factor                      47 non-null     object \n",
      " 17  PPP survey year                                    145 non-null    object \n",
      " 18  Balance of Payments Manual in use                  181 non-null    object \n",
      " 19  External debt Reporting status                     124 non-null    object \n",
      " 20  System of trade                                    200 non-null    object \n",
      " 21  Government Accounting concept                      161 non-null    object \n",
      " 22  IMF data dissemination standard                    181 non-null    object \n",
      " 23  Latest population census                           213 non-null    object \n",
      " 24  Latest household survey                            141 non-null    object \n",
      " 25  Source of most recent Income and expenditure data  160 non-null    object \n",
      " 26  Vital registration complete                        111 non-null    object \n",
      " 27  Latest agricultural census                         142 non-null    object \n",
      " 28  Latest industrial data                             107 non-null    float64\n",
      " 29  Latest trade data                                  185 non-null    float64\n",
      " 30  Latest water withdrawal data                       179 non-null    object \n",
      "dtypes: float64(3), object(28)\n",
      "memory usage: 58.5+ KB\n",
      "None\n"
     ]
    }
   ],
   "source": [
    "df_stats_country.know_your_data()"
   ]
  },
  {
   "cell_type": "code",
   "execution_count": 11,
   "metadata": {},
   "outputs": [
    {
     "data": {
      "text/html": [
       "<div>\n",
       "<style scoped>\n",
       "    .dataframe tbody tr th:only-of-type {\n",
       "        vertical-align: middle;\n",
       "    }\n",
       "\n",
       "    .dataframe tbody tr th {\n",
       "        vertical-align: top;\n",
       "    }\n",
       "\n",
       "    .dataframe thead th {\n",
       "        text-align: right;\n",
       "    }\n",
       "</style>\n",
       "<table border=\"1\" class=\"dataframe\">\n",
       "  <thead>\n",
       "    <tr style=\"text-align: right;\">\n",
       "      <th></th>\n",
       "      <th>National accounts reference year</th>\n",
       "      <th>Latest industrial data</th>\n",
       "      <th>Latest trade data</th>\n",
       "    </tr>\n",
       "  </thead>\n",
       "  <tbody>\n",
       "    <tr>\n",
       "      <th>count</th>\n",
       "      <td>32.00000</td>\n",
       "      <td>107.000000</td>\n",
       "      <td>185.000000</td>\n",
       "    </tr>\n",
       "    <tr>\n",
       "      <th>mean</th>\n",
       "      <td>2001.53125</td>\n",
       "      <td>2008.102804</td>\n",
       "      <td>2010.994595</td>\n",
       "    </tr>\n",
       "    <tr>\n",
       "      <th>std</th>\n",
       "      <td>5.24856</td>\n",
       "      <td>2.616834</td>\n",
       "      <td>2.569675</td>\n",
       "    </tr>\n",
       "    <tr>\n",
       "      <th>min</th>\n",
       "      <td>1987.00000</td>\n",
       "      <td>2000.000000</td>\n",
       "      <td>1995.000000</td>\n",
       "    </tr>\n",
       "    <tr>\n",
       "      <th>25%</th>\n",
       "      <td>1996.75000</td>\n",
       "      <td>2007.500000</td>\n",
       "      <td>2011.000000</td>\n",
       "    </tr>\n",
       "    <tr>\n",
       "      <th>50%</th>\n",
       "      <td>2002.00000</td>\n",
       "      <td>2009.000000</td>\n",
       "      <td>2012.000000</td>\n",
       "    </tr>\n",
       "    <tr>\n",
       "      <th>75%</th>\n",
       "      <td>2005.00000</td>\n",
       "      <td>2010.000000</td>\n",
       "      <td>2012.000000</td>\n",
       "    </tr>\n",
       "    <tr>\n",
       "      <th>max</th>\n",
       "      <td>2012.00000</td>\n",
       "      <td>2010.000000</td>\n",
       "      <td>2012.000000</td>\n",
       "    </tr>\n",
       "  </tbody>\n",
       "</table>\n",
       "</div>"
      ],
      "text/plain": [
       "       National accounts reference year  Latest industrial data  \\\n",
       "count                          32.00000              107.000000   \n",
       "mean                         2001.53125             2008.102804   \n",
       "std                             5.24856                2.616834   \n",
       "min                          1987.00000             2000.000000   \n",
       "25%                          1996.75000             2007.500000   \n",
       "50%                          2002.00000             2009.000000   \n",
       "75%                          2005.00000             2010.000000   \n",
       "max                          2012.00000             2010.000000   \n",
       "\n",
       "       Latest trade data  \n",
       "count         185.000000  \n",
       "mean         2010.994595  \n",
       "std             2.569675  \n",
       "min          1995.000000  \n",
       "25%          2011.000000  \n",
       "50%          2012.000000  \n",
       "75%          2012.000000  \n",
       "max          2012.000000  "
      ]
     },
     "execution_count": 11,
     "metadata": {},
     "output_type": "execute_result"
    }
   ],
   "source": [
    "df_stats_country.get_df().describe()"
   ]
  },
  {
   "cell_type": "code",
   "execution_count": 12,
   "metadata": {},
   "outputs": [
    {
     "data": {
      "text/html": [
       "<div>\n",
       "<style scoped>\n",
       "    .dataframe tbody tr th:only-of-type {\n",
       "        vertical-align: middle;\n",
       "    }\n",
       "\n",
       "    .dataframe tbody tr th {\n",
       "        vertical-align: top;\n",
       "    }\n",
       "\n",
       "    .dataframe thead th {\n",
       "        text-align: right;\n",
       "    }\n",
       "</style>\n",
       "<table border=\"1\" class=\"dataframe\">\n",
       "  <thead>\n",
       "    <tr style=\"text-align: right;\">\n",
       "      <th></th>\n",
       "      <th>features</th>\n",
       "      <th>null_count</th>\n",
       "      <th>null_pct</th>\n",
       "    </tr>\n",
       "  </thead>\n",
       "  <tbody>\n",
       "    <tr>\n",
       "      <th>0</th>\n",
       "      <td>Country Code</td>\n",
       "      <td>0</td>\n",
       "      <td>0.00</td>\n",
       "    </tr>\n",
       "    <tr>\n",
       "      <th>1</th>\n",
       "      <td>Short Name</td>\n",
       "      <td>0</td>\n",
       "      <td>0.00</td>\n",
       "    </tr>\n",
       "    <tr>\n",
       "      <th>2</th>\n",
       "      <td>Table Name</td>\n",
       "      <td>0</td>\n",
       "      <td>0.00</td>\n",
       "    </tr>\n",
       "    <tr>\n",
       "      <th>3</th>\n",
       "      <td>Long Name</td>\n",
       "      <td>0</td>\n",
       "      <td>0.00</td>\n",
       "    </tr>\n",
       "    <tr>\n",
       "      <th>4</th>\n",
       "      <td>2-alpha code</td>\n",
       "      <td>3</td>\n",
       "      <td>1.24</td>\n",
       "    </tr>\n",
       "    <tr>\n",
       "      <th>5</th>\n",
       "      <td>Currency Unit</td>\n",
       "      <td>26</td>\n",
       "      <td>10.79</td>\n",
       "    </tr>\n",
       "    <tr>\n",
       "      <th>6</th>\n",
       "      <td>Special Notes</td>\n",
       "      <td>96</td>\n",
       "      <td>39.83</td>\n",
       "    </tr>\n",
       "    <tr>\n",
       "      <th>7</th>\n",
       "      <td>Region</td>\n",
       "      <td>27</td>\n",
       "      <td>11.20</td>\n",
       "    </tr>\n",
       "    <tr>\n",
       "      <th>8</th>\n",
       "      <td>Income Group</td>\n",
       "      <td>27</td>\n",
       "      <td>11.20</td>\n",
       "    </tr>\n",
       "    <tr>\n",
       "      <th>9</th>\n",
       "      <td>WB-2 code</td>\n",
       "      <td>1</td>\n",
       "      <td>0.41</td>\n",
       "    </tr>\n",
       "    <tr>\n",
       "      <th>10</th>\n",
       "      <td>National accounts base year</td>\n",
       "      <td>36</td>\n",
       "      <td>14.94</td>\n",
       "    </tr>\n",
       "    <tr>\n",
       "      <th>11</th>\n",
       "      <td>National accounts reference year</td>\n",
       "      <td>209</td>\n",
       "      <td>86.72</td>\n",
       "    </tr>\n",
       "    <tr>\n",
       "      <th>12</th>\n",
       "      <td>SNA price valuation</td>\n",
       "      <td>44</td>\n",
       "      <td>18.26</td>\n",
       "    </tr>\n",
       "    <tr>\n",
       "      <th>13</th>\n",
       "      <td>Lending category</td>\n",
       "      <td>97</td>\n",
       "      <td>40.25</td>\n",
       "    </tr>\n",
       "    <tr>\n",
       "      <th>14</th>\n",
       "      <td>Other groups</td>\n",
       "      <td>183</td>\n",
       "      <td>75.93</td>\n",
       "    </tr>\n",
       "    <tr>\n",
       "      <th>15</th>\n",
       "      <td>System of National Accounts</td>\n",
       "      <td>26</td>\n",
       "      <td>10.79</td>\n",
       "    </tr>\n",
       "    <tr>\n",
       "      <th>16</th>\n",
       "      <td>Alternative conversion factor</td>\n",
       "      <td>194</td>\n",
       "      <td>80.50</td>\n",
       "    </tr>\n",
       "    <tr>\n",
       "      <th>17</th>\n",
       "      <td>PPP survey year</td>\n",
       "      <td>96</td>\n",
       "      <td>39.83</td>\n",
       "    </tr>\n",
       "    <tr>\n",
       "      <th>18</th>\n",
       "      <td>Balance of Payments Manual in use</td>\n",
       "      <td>60</td>\n",
       "      <td>24.90</td>\n",
       "    </tr>\n",
       "    <tr>\n",
       "      <th>19</th>\n",
       "      <td>External debt Reporting status</td>\n",
       "      <td>117</td>\n",
       "      <td>48.55</td>\n",
       "    </tr>\n",
       "    <tr>\n",
       "      <th>20</th>\n",
       "      <td>System of trade</td>\n",
       "      <td>41</td>\n",
       "      <td>17.01</td>\n",
       "    </tr>\n",
       "    <tr>\n",
       "      <th>21</th>\n",
       "      <td>Government Accounting concept</td>\n",
       "      <td>80</td>\n",
       "      <td>33.20</td>\n",
       "    </tr>\n",
       "    <tr>\n",
       "      <th>22</th>\n",
       "      <td>IMF data dissemination standard</td>\n",
       "      <td>60</td>\n",
       "      <td>24.90</td>\n",
       "    </tr>\n",
       "    <tr>\n",
       "      <th>23</th>\n",
       "      <td>Latest population census</td>\n",
       "      <td>28</td>\n",
       "      <td>11.62</td>\n",
       "    </tr>\n",
       "    <tr>\n",
       "      <th>24</th>\n",
       "      <td>Latest household survey</td>\n",
       "      <td>100</td>\n",
       "      <td>41.49</td>\n",
       "    </tr>\n",
       "    <tr>\n",
       "      <th>25</th>\n",
       "      <td>Source of most recent Income and expenditure data</td>\n",
       "      <td>81</td>\n",
       "      <td>33.61</td>\n",
       "    </tr>\n",
       "    <tr>\n",
       "      <th>26</th>\n",
       "      <td>Vital registration complete</td>\n",
       "      <td>130</td>\n",
       "      <td>53.94</td>\n",
       "    </tr>\n",
       "    <tr>\n",
       "      <th>27</th>\n",
       "      <td>Latest agricultural census</td>\n",
       "      <td>99</td>\n",
       "      <td>41.08</td>\n",
       "    </tr>\n",
       "    <tr>\n",
       "      <th>28</th>\n",
       "      <td>Latest industrial data</td>\n",
       "      <td>134</td>\n",
       "      <td>55.60</td>\n",
       "    </tr>\n",
       "    <tr>\n",
       "      <th>29</th>\n",
       "      <td>Latest trade data</td>\n",
       "      <td>56</td>\n",
       "      <td>23.24</td>\n",
       "    </tr>\n",
       "    <tr>\n",
       "      <th>30</th>\n",
       "      <td>Latest water withdrawal data</td>\n",
       "      <td>62</td>\n",
       "      <td>25.73</td>\n",
       "    </tr>\n",
       "  </tbody>\n",
       "</table>\n",
       "</div>"
      ],
      "text/plain": [
       "                                             features  null_count  null_pct\n",
       "0                                        Country Code           0      0.00\n",
       "1                                          Short Name           0      0.00\n",
       "2                                          Table Name           0      0.00\n",
       "3                                           Long Name           0      0.00\n",
       "4                                        2-alpha code           3      1.24\n",
       "5                                       Currency Unit          26     10.79\n",
       "6                                       Special Notes          96     39.83\n",
       "7                                              Region          27     11.20\n",
       "8                                        Income Group          27     11.20\n",
       "9                                           WB-2 code           1      0.41\n",
       "10                        National accounts base year          36     14.94\n",
       "11                   National accounts reference year         209     86.72\n",
       "12                                SNA price valuation          44     18.26\n",
       "13                                   Lending category          97     40.25\n",
       "14                                       Other groups         183     75.93\n",
       "15                        System of National Accounts          26     10.79\n",
       "16                      Alternative conversion factor         194     80.50\n",
       "17                                    PPP survey year          96     39.83\n",
       "18                  Balance of Payments Manual in use          60     24.90\n",
       "19                     External debt Reporting status         117     48.55\n",
       "20                                    System of trade          41     17.01\n",
       "21                      Government Accounting concept          80     33.20\n",
       "22                    IMF data dissemination standard          60     24.90\n",
       "23                           Latest population census          28     11.62\n",
       "24                            Latest household survey         100     41.49\n",
       "25  Source of most recent Income and expenditure data          81     33.61\n",
       "26                        Vital registration complete         130     53.94\n",
       "27                         Latest agricultural census          99     41.08\n",
       "28                             Latest industrial data         134     55.60\n",
       "29                                  Latest trade data          56     23.24\n",
       "30                       Latest water withdrawal data          62     25.73"
      ]
     },
     "execution_count": 12,
     "metadata": {},
     "output_type": "execute_result"
    }
   ],
   "source": [
    "df_stats_country.get_null_info()"
   ]
  },
  {
   "cell_type": "code",
   "execution_count": 13,
   "metadata": {},
   "outputs": [
    {
     "data": {
      "image/png": "[encoded data removed]",
      "text/plain": [
       "<Figure size 1500x1000 with 1 Axes>"
      ]
     },
     "metadata": {},
     "output_type": "display_data"
    }
   ],
   "source": [
    "plt.rcParams['figure.figsize'] = (15, 10)\n",
    "df_stats_country.show_null_info()"
   ]
  },
  {
   "cell_type": "markdown",
   "metadata": {},
   "source": [
    "1. This file contains country_wise survey data tied with world bank.\n",
    "2. Each columns contains some missing values except 'Country Code', 'Long Name', 'Short Name', 'Table Name'."
   ]
  },
  {
   "cell_type": "markdown",
   "metadata": {
    "jp-MarkdownHeadingCollapsed": true
   },
   "source": [
    "### 3. Ed_stats_country_series"
   ]
  },
  {
   "cell_type": "code",
   "execution_count": 14,
   "metadata": {},
   "outputs": [
    {
     "name": "stdout",
     "output_type": "stream",
     "text": [
      "Shape : (613, 3)\n"
     ]
    },
    {
     "data": {
      "text/html": [
       "<div>\n",
       "<style scoped>\n",
       "    .dataframe tbody tr th:only-of-type {\n",
       "        vertical-align: middle;\n",
       "    }\n",
       "\n",
       "    .dataframe tbody tr th {\n",
       "        vertical-align: top;\n",
       "    }\n",
       "\n",
       "    .dataframe thead th {\n",
       "        text-align: right;\n",
       "    }\n",
       "</style>\n",
       "<table border=\"1\" class=\"dataframe\">\n",
       "  <thead>\n",
       "    <tr style=\"text-align: right;\">\n",
       "      <th></th>\n",
       "      <th>CountryCode</th>\n",
       "      <th>SeriesCode</th>\n",
       "      <th>DESCRIPTION</th>\n",
       "    </tr>\n",
       "  </thead>\n",
       "  <tbody>\n",
       "    <tr>\n",
       "      <th>0</th>\n",
       "      <td>ABW</td>\n",
       "      <td>SP.POP.TOTL</td>\n",
       "      <td>Data sources : United Nations World Population...</td>\n",
       "    </tr>\n",
       "    <tr>\n",
       "      <th>1</th>\n",
       "      <td>ABW</td>\n",
       "      <td>SP.POP.GROW</td>\n",
       "      <td>Data sources: United Nations World Population ...</td>\n",
       "    </tr>\n",
       "    <tr>\n",
       "      <th>2</th>\n",
       "      <td>AFG</td>\n",
       "      <td>SP.POP.GROW</td>\n",
       "      <td>Data sources: United Nations World Population ...</td>\n",
       "    </tr>\n",
       "  </tbody>\n",
       "</table>\n",
       "</div>"
      ],
      "text/plain": [
       "  CountryCode   SeriesCode                                        DESCRIPTION\n",
       "0         ABW  SP.POP.TOTL  Data sources : United Nations World Population...\n",
       "1         ABW  SP.POP.GROW  Data sources: United Nations World Population ...\n",
       "2         AFG  SP.POP.GROW  Data sources: United Nations World Population ..."
      ]
     },
     "execution_count": 14,
     "metadata": {},
     "output_type": "execute_result"
    }
   ],
   "source": [
    "df_stats_country_series = df(path_ed_stats_country_series)\n",
    "df_stats_country_series.get_df().head(3)"
   ]
  },
  {
   "cell_type": "code",
   "execution_count": 15,
   "metadata": {},
   "outputs": [
    {
     "name": "stdout",
     "output_type": "stream",
     "text": [
      "duplicate counts :  0\n",
      "\n",
      "columns :  Index(['CountryCode', 'SeriesCode', 'DESCRIPTION'], dtype='object')\n",
      "\n",
      "info :\n",
      "<class 'pandas.core.frame.DataFrame'>\n",
      "RangeIndex: 613 entries, 0 to 612\n",
      "Data columns (total 3 columns):\n",
      " #   Column       Non-Null Count  Dtype \n",
      "---  ------       --------------  ----- \n",
      " 0   CountryCode  613 non-null    object\n",
      " 1   SeriesCode   613 non-null    object\n",
      " 2   DESCRIPTION  613 non-null    object\n",
      "dtypes: object(3)\n",
      "memory usage: 14.5+ KB\n",
      "None\n"
     ]
    }
   ],
   "source": [
    "df_stats_country_series.know_your_data()"
   ]
  },
  {
   "cell_type": "code",
   "execution_count": 16,
   "metadata": {},
   "outputs": [
    {
     "data": {
      "text/html": [
       "<div>\n",
       "<style scoped>\n",
       "    .dataframe tbody tr th:only-of-type {\n",
       "        vertical-align: middle;\n",
       "    }\n",
       "\n",
       "    .dataframe tbody tr th {\n",
       "        vertical-align: top;\n",
       "    }\n",
       "\n",
       "    .dataframe thead th {\n",
       "        text-align: right;\n",
       "    }\n",
       "</style>\n",
       "<table border=\"1\" class=\"dataframe\">\n",
       "  <thead>\n",
       "    <tr style=\"text-align: right;\">\n",
       "      <th></th>\n",
       "      <th>CountryCode</th>\n",
       "      <th>SeriesCode</th>\n",
       "      <th>DESCRIPTION</th>\n",
       "    </tr>\n",
       "  </thead>\n",
       "  <tbody>\n",
       "    <tr>\n",
       "      <th>count</th>\n",
       "      <td>613</td>\n",
       "      <td>613</td>\n",
       "      <td>613</td>\n",
       "    </tr>\n",
       "    <tr>\n",
       "      <th>unique</th>\n",
       "      <td>211</td>\n",
       "      <td>21</td>\n",
       "      <td>97</td>\n",
       "    </tr>\n",
       "    <tr>\n",
       "      <th>top</th>\n",
       "      <td>MDA</td>\n",
       "      <td>SP.POP.TOTL</td>\n",
       "      <td>Data sources : United Nations World Population...</td>\n",
       "    </tr>\n",
       "    <tr>\n",
       "      <th>freq</th>\n",
       "      <td>18</td>\n",
       "      <td>211</td>\n",
       "      <td>154</td>\n",
       "    </tr>\n",
       "  </tbody>\n",
       "</table>\n",
       "</div>"
      ],
      "text/plain": [
       "       CountryCode   SeriesCode  \\\n",
       "count          613          613   \n",
       "unique         211           21   \n",
       "top            MDA  SP.POP.TOTL   \n",
       "freq            18          211   \n",
       "\n",
       "                                              DESCRIPTION  \n",
       "count                                                 613  \n",
       "unique                                                 97  \n",
       "top     Data sources : United Nations World Population...  \n",
       "freq                                                  154  "
      ]
     },
     "execution_count": 16,
     "metadata": {},
     "output_type": "execute_result"
    }
   ],
   "source": [
    "df_stats_country_series.get_df().describe()"
   ]
  },
  {
   "cell_type": "code",
   "execution_count": 17,
   "metadata": {},
   "outputs": [
    {
     "data": {
      "text/html": [
       "<div>\n",
       "<style scoped>\n",
       "    .dataframe tbody tr th:only-of-type {\n",
       "        vertical-align: middle;\n",
       "    }\n",
       "\n",
       "    .dataframe tbody tr th {\n",
       "        vertical-align: top;\n",
       "    }\n",
       "\n",
       "    .dataframe thead th {\n",
       "        text-align: right;\n",
       "    }\n",
       "</style>\n",
       "<table border=\"1\" class=\"dataframe\">\n",
       "  <thead>\n",
       "    <tr style=\"text-align: right;\">\n",
       "      <th></th>\n",
       "      <th>features</th>\n",
       "      <th>null_count</th>\n",
       "      <th>null_pct</th>\n",
       "    </tr>\n",
       "  </thead>\n",
       "  <tbody>\n",
       "    <tr>\n",
       "      <th>0</th>\n",
       "      <td>CountryCode</td>\n",
       "      <td>0</td>\n",
       "      <td>0.0</td>\n",
       "    </tr>\n",
       "    <tr>\n",
       "      <th>1</th>\n",
       "      <td>SeriesCode</td>\n",
       "      <td>0</td>\n",
       "      <td>0.0</td>\n",
       "    </tr>\n",
       "    <tr>\n",
       "      <th>2</th>\n",
       "      <td>DESCRIPTION</td>\n",
       "      <td>0</td>\n",
       "      <td>0.0</td>\n",
       "    </tr>\n",
       "  </tbody>\n",
       "</table>\n",
       "</div>"
      ],
      "text/plain": [
       "      features  null_count  null_pct\n",
       "0  CountryCode           0       0.0\n",
       "1   SeriesCode           0       0.0\n",
       "2  DESCRIPTION           0       0.0"
      ]
     },
     "execution_count": 17,
     "metadata": {},
     "output_type": "execute_result"
    }
   ],
   "source": [
    "df_stats_country_series.get_null_info()"
   ]
  },
  {
   "cell_type": "code",
   "execution_count": 18,
   "metadata": {},
   "outputs": [
    {
     "data": {
      "image/png": "[encoded data removed]",
      "text/plain": [
       "<Figure size 600x120 with 1 Axes>"
      ]
     },
     "metadata": {},
     "output_type": "display_data"
    }
   ],
   "source": [
    "plt.rcParams['figure.figsize'] = (6, 1.2)\n",
    "df_stats_country_series.show_null_info()"
   ]
  },
  {
   "cell_type": "markdown",
   "metadata": {},
   "source": [
    "1. This file contains country_wise data with series code and data source.\n",
    "2. There is no null in any columns except Unnamed: 3."
   ]
  },
  {
   "cell_type": "markdown",
   "metadata": {
    "jp-MarkdownHeadingCollapsed": true
   },
   "source": [
    "### 4. Ed_stats series"
   ]
  },
  {
   "cell_type": "code",
   "execution_count": 19,
   "metadata": {},
   "outputs": [
    {
     "name": "stdout",
     "output_type": "stream",
     "text": [
      "Shape : (3665, 20)\n"
     ]
    },
    {
     "data": {
      "text/html": [
       "<div>\n",
       "<style scoped>\n",
       "    .dataframe tbody tr th:only-of-type {\n",
       "        vertical-align: middle;\n",
       "    }\n",
       "\n",
       "    .dataframe tbody tr th {\n",
       "        vertical-align: top;\n",
       "    }\n",
       "\n",
       "    .dataframe thead th {\n",
       "        text-align: right;\n",
       "    }\n",
       "</style>\n",
       "<table border=\"1\" class=\"dataframe\">\n",
       "  <thead>\n",
       "    <tr style=\"text-align: right;\">\n",
       "      <th></th>\n",
       "      <th>Series Code</th>\n",
       "      <th>Topic</th>\n",
       "      <th>Indicator Name</th>\n",
       "      <th>Short definition</th>\n",
       "      <th>Long definition</th>\n",
       "      <th>Unit of measure</th>\n",
       "      <th>Periodicity</th>\n",
       "      <th>Base Period</th>\n",
       "      <th>Other notes</th>\n",
       "      <th>Aggregation method</th>\n",
       "      <th>Limitations and exceptions</th>\n",
       "      <th>Notes from original source</th>\n",
       "      <th>General comments</th>\n",
       "      <th>Source</th>\n",
       "      <th>Statistical concept and methodology</th>\n",
       "      <th>Development relevance</th>\n",
       "      <th>Related source links</th>\n",
       "      <th>Other web links</th>\n",
       "      <th>Related indicators</th>\n",
       "      <th>License Type</th>\n",
       "    </tr>\n",
       "  </thead>\n",
       "  <tbody>\n",
       "    <tr>\n",
       "      <th>0</th>\n",
       "      <td>BAR.NOED.1519.FE.ZS</td>\n",
       "      <td>Attainment</td>\n",
       "      <td>Barro-Lee: Percentage of female population age...</td>\n",
       "      <td>Percentage of female population age 15-19 with...</td>\n",
       "      <td>Percentage of female population age 15-19 with...</td>\n",
       "      <td>NaN</td>\n",
       "      <td>NaN</td>\n",
       "      <td>NaN</td>\n",
       "      <td>NaN</td>\n",
       "      <td>NaN</td>\n",
       "      <td>NaN</td>\n",
       "      <td>NaN</td>\n",
       "      <td>NaN</td>\n",
       "      <td>Robert J. Barro and Jong-Wha Lee: http://www.b...</td>\n",
       "      <td>NaN</td>\n",
       "      <td>NaN</td>\n",
       "      <td>NaN</td>\n",
       "      <td>NaN</td>\n",
       "      <td>NaN</td>\n",
       "      <td>NaN</td>\n",
       "    </tr>\n",
       "    <tr>\n",
       "      <th>1</th>\n",
       "      <td>BAR.NOED.1519.ZS</td>\n",
       "      <td>Attainment</td>\n",
       "      <td>Barro-Lee: Percentage of population age 15-19 ...</td>\n",
       "      <td>Percentage of population age 15-19 with no edu...</td>\n",
       "      <td>Percentage of population age 15-19 with no edu...</td>\n",
       "      <td>NaN</td>\n",
       "      <td>NaN</td>\n",
       "      <td>NaN</td>\n",
       "      <td>NaN</td>\n",
       "      <td>NaN</td>\n",
       "      <td>NaN</td>\n",
       "      <td>NaN</td>\n",
       "      <td>NaN</td>\n",
       "      <td>Robert J. Barro and Jong-Wha Lee: http://www.b...</td>\n",
       "      <td>NaN</td>\n",
       "      <td>NaN</td>\n",
       "      <td>NaN</td>\n",
       "      <td>NaN</td>\n",
       "      <td>NaN</td>\n",
       "      <td>NaN</td>\n",
       "    </tr>\n",
       "    <tr>\n",
       "      <th>2</th>\n",
       "      <td>BAR.NOED.15UP.FE.ZS</td>\n",
       "      <td>Attainment</td>\n",
       "      <td>Barro-Lee: Percentage of female population age...</td>\n",
       "      <td>Percentage of female population age 15+ with n...</td>\n",
       "      <td>Percentage of female population age 15+ with n...</td>\n",
       "      <td>NaN</td>\n",
       "      <td>NaN</td>\n",
       "      <td>NaN</td>\n",
       "      <td>NaN</td>\n",
       "      <td>NaN</td>\n",
       "      <td>NaN</td>\n",
       "      <td>NaN</td>\n",
       "      <td>NaN</td>\n",
       "      <td>Robert J. Barro and Jong-Wha Lee: http://www.b...</td>\n",
       "      <td>NaN</td>\n",
       "      <td>NaN</td>\n",
       "      <td>NaN</td>\n",
       "      <td>NaN</td>\n",
       "      <td>NaN</td>\n",
       "      <td>NaN</td>\n",
       "    </tr>\n",
       "  </tbody>\n",
       "</table>\n",
       "</div>"
      ],
      "text/plain": [
       "           Series Code       Topic  \\\n",
       "0  BAR.NOED.1519.FE.ZS  Attainment   \n",
       "1     BAR.NOED.1519.ZS  Attainment   \n",
       "2  BAR.NOED.15UP.FE.ZS  Attainment   \n",
       "\n",
       "                                      Indicator Name  \\\n",
       "0  Barro-Lee: Percentage of female population age...   \n",
       "1  Barro-Lee: Percentage of population age 15-19 ...   \n",
       "2  Barro-Lee: Percentage of female population age...   \n",
       "\n",
       "                                    Short definition  \\\n",
       "0  Percentage of female population age 15-19 with...   \n",
       "1  Percentage of population age 15-19 with no edu...   \n",
       "2  Percentage of female population age 15+ with n...   \n",
       "\n",
       "                                     Long definition  Unit of measure  \\\n",
       "0  Percentage of female population age 15-19 with...              NaN   \n",
       "1  Percentage of population age 15-19 with no edu...              NaN   \n",
       "2  Percentage of female population age 15+ with n...              NaN   \n",
       "\n",
       "  Periodicity Base Period Other notes Aggregation method  \\\n",
       "0         NaN         NaN         NaN                NaN   \n",
       "1         NaN         NaN         NaN                NaN   \n",
       "2         NaN         NaN         NaN                NaN   \n",
       "\n",
       "  Limitations and exceptions  Notes from original source General comments  \\\n",
       "0                        NaN                         NaN              NaN   \n",
       "1                        NaN                         NaN              NaN   \n",
       "2                        NaN                         NaN              NaN   \n",
       "\n",
       "                                              Source  \\\n",
       "0  Robert J. Barro and Jong-Wha Lee: http://www.b...   \n",
       "1  Robert J. Barro and Jong-Wha Lee: http://www.b...   \n",
       "2  Robert J. Barro and Jong-Wha Lee: http://www.b...   \n",
       "\n",
       "  Statistical concept and methodology Development relevance  \\\n",
       "0                                 NaN                   NaN   \n",
       "1                                 NaN                   NaN   \n",
       "2                                 NaN                   NaN   \n",
       "\n",
       "  Related source links  Other web links  Related indicators  License Type  \n",
       "0                  NaN              NaN                 NaN           NaN  \n",
       "1                  NaN              NaN                 NaN           NaN  \n",
       "2                  NaN              NaN                 NaN           NaN  "
      ]
     },
     "execution_count": 19,
     "metadata": {},
     "output_type": "execute_result"
    }
   ],
   "source": [
    "df_ed_stats_series = df(path_ed_stats_series)\n",
    "df_ed_stats_series.get_df().head(3)"
   ]
  },
  {
   "cell_type": "code",
   "execution_count": 20,
   "metadata": {},
   "outputs": [
    {
     "name": "stdout",
     "output_type": "stream",
     "text": [
      "duplicate counts :  0\n",
      "\n",
      "columns :  Index(['Series Code', 'Topic', 'Indicator Name', 'Short definition',\n",
      "       'Long definition', 'Unit of measure', 'Periodicity', 'Base Period',\n",
      "       'Other notes', 'Aggregation method', 'Limitations and exceptions',\n",
      "       'Notes from original source', 'General comments', 'Source',\n",
      "       'Statistical concept and methodology', 'Development relevance',\n",
      "       'Related source links', 'Other web links', 'Related indicators',\n",
      "       'License Type'],\n",
      "      dtype='object')\n",
      "\n",
      "info :\n",
      "<class 'pandas.core.frame.DataFrame'>\n",
      "RangeIndex: 3665 entries, 0 to 3664\n",
      "Data columns (total 20 columns):\n",
      " #   Column                               Non-Null Count  Dtype  \n",
      "---  ------                               --------------  -----  \n",
      " 0   Series Code                          3665 non-null   object \n",
      " 1   Topic                                3665 non-null   object \n",
      " 2   Indicator Name                       3665 non-null   object \n",
      " 3   Short definition                     2156 non-null   object \n",
      " 4   Long definition                      3665 non-null   object \n",
      " 5   Unit of measure                      0 non-null      float64\n",
      " 6   Periodicity                          99 non-null     object \n",
      " 7   Base Period                          314 non-null    object \n",
      " 8   Other notes                          552 non-null    object \n",
      " 9   Aggregation method                   47 non-null     object \n",
      " 10  Limitations and exceptions           14 non-null     object \n",
      " 11  Notes from original source           0 non-null      float64\n",
      " 12  General comments                     14 non-null     object \n",
      " 13  Source                               3665 non-null   object \n",
      " 14  Statistical concept and methodology  23 non-null     object \n",
      " 15  Development relevance                3 non-null      object \n",
      " 16  Related source links                 215 non-null    object \n",
      " 17  Other web links                      0 non-null      float64\n",
      " 18  Related indicators                   0 non-null      float64\n",
      " 19  License Type                         0 non-null      float64\n",
      "dtypes: float64(5), object(15)\n",
      "memory usage: 572.8+ KB\n",
      "None\n"
     ]
    }
   ],
   "source": [
    "df_ed_stats_series.know_your_data()"
   ]
  },
  {
   "cell_type": "code",
   "execution_count": 21,
   "metadata": {},
   "outputs": [
    {
     "data": {
      "text/html": [
       "<div>\n",
       "<style scoped>\n",
       "    .dataframe tbody tr th:only-of-type {\n",
       "        vertical-align: middle;\n",
       "    }\n",
       "\n",
       "    .dataframe tbody tr th {\n",
       "        vertical-align: top;\n",
       "    }\n",
       "\n",
       "    .dataframe thead th {\n",
       "        text-align: right;\n",
       "    }\n",
       "</style>\n",
       "<table border=\"1\" class=\"dataframe\">\n",
       "  <thead>\n",
       "    <tr style=\"text-align: right;\">\n",
       "      <th></th>\n",
       "      <th>Unit of measure</th>\n",
       "      <th>Notes from original source</th>\n",
       "      <th>Other web links</th>\n",
       "      <th>Related indicators</th>\n",
       "      <th>License Type</th>\n",
       "    </tr>\n",
       "  </thead>\n",
       "  <tbody>\n",
       "    <tr>\n",
       "      <th>count</th>\n",
       "      <td>0.0</td>\n",
       "      <td>0.0</td>\n",
       "      <td>0.0</td>\n",
       "      <td>0.0</td>\n",
       "      <td>0.0</td>\n",
       "    </tr>\n",
       "    <tr>\n",
       "      <th>mean</th>\n",
       "      <td>NaN</td>\n",
       "      <td>NaN</td>\n",
       "      <td>NaN</td>\n",
       "      <td>NaN</td>\n",
       "      <td>NaN</td>\n",
       "    </tr>\n",
       "    <tr>\n",
       "      <th>std</th>\n",
       "      <td>NaN</td>\n",
       "      <td>NaN</td>\n",
       "      <td>NaN</td>\n",
       "      <td>NaN</td>\n",
       "      <td>NaN</td>\n",
       "    </tr>\n",
       "    <tr>\n",
       "      <th>min</th>\n",
       "      <td>NaN</td>\n",
       "      <td>NaN</td>\n",
       "      <td>NaN</td>\n",
       "      <td>NaN</td>\n",
       "      <td>NaN</td>\n",
       "    </tr>\n",
       "    <tr>\n",
       "      <th>25%</th>\n",
       "      <td>NaN</td>\n",
       "      <td>NaN</td>\n",
       "      <td>NaN</td>\n",
       "      <td>NaN</td>\n",
       "      <td>NaN</td>\n",
       "    </tr>\n",
       "    <tr>\n",
       "      <th>50%</th>\n",
       "      <td>NaN</td>\n",
       "      <td>NaN</td>\n",
       "      <td>NaN</td>\n",
       "      <td>NaN</td>\n",
       "      <td>NaN</td>\n",
       "    </tr>\n",
       "    <tr>\n",
       "      <th>75%</th>\n",
       "      <td>NaN</td>\n",
       "      <td>NaN</td>\n",
       "      <td>NaN</td>\n",
       "      <td>NaN</td>\n",
       "      <td>NaN</td>\n",
       "    </tr>\n",
       "    <tr>\n",
       "      <th>max</th>\n",
       "      <td>NaN</td>\n",
       "      <td>NaN</td>\n",
       "      <td>NaN</td>\n",
       "      <td>NaN</td>\n",
       "      <td>NaN</td>\n",
       "    </tr>\n",
       "  </tbody>\n",
       "</table>\n",
       "</div>"
      ],
      "text/plain": [
       "       Unit of measure  Notes from original source  Other web links  \\\n",
       "count              0.0                         0.0              0.0   \n",
       "mean               NaN                         NaN              NaN   \n",
       "std                NaN                         NaN              NaN   \n",
       "min                NaN                         NaN              NaN   \n",
       "25%                NaN                         NaN              NaN   \n",
       "50%                NaN                         NaN              NaN   \n",
       "75%                NaN                         NaN              NaN   \n",
       "max                NaN                         NaN              NaN   \n",
       "\n",
       "       Related indicators  License Type  \n",
       "count                 0.0           0.0  \n",
       "mean                  NaN           NaN  \n",
       "std                   NaN           NaN  \n",
       "min                   NaN           NaN  \n",
       "25%                   NaN           NaN  \n",
       "50%                   NaN           NaN  \n",
       "75%                   NaN           NaN  \n",
       "max                   NaN           NaN  "
      ]
     },
     "execution_count": 21,
     "metadata": {},
     "output_type": "execute_result"
    }
   ],
   "source": [
    "df_ed_stats_series.get_df().describe()"
   ]
  },
  {
   "cell_type": "code",
   "execution_count": 22,
   "metadata": {},
   "outputs": [
    {
     "data": {
      "text/html": [
       "<div>\n",
       "<style scoped>\n",
       "    .dataframe tbody tr th:only-of-type {\n",
       "        vertical-align: middle;\n",
       "    }\n",
       "\n",
       "    .dataframe tbody tr th {\n",
       "        vertical-align: top;\n",
       "    }\n",
       "\n",
       "    .dataframe thead th {\n",
       "        text-align: right;\n",
       "    }\n",
       "</style>\n",
       "<table border=\"1\" class=\"dataframe\">\n",
       "  <thead>\n",
       "    <tr style=\"text-align: right;\">\n",
       "      <th></th>\n",
       "      <th>0</th>\n",
       "      <th>1</th>\n",
       "      <th>2</th>\n",
       "      <th>3</th>\n",
       "      <th>4</th>\n",
       "      <th>5</th>\n",
       "      <th>6</th>\n",
       "      <th>7</th>\n",
       "      <th>8</th>\n",
       "      <th>9</th>\n",
       "      <th>10</th>\n",
       "      <th>11</th>\n",
       "      <th>12</th>\n",
       "      <th>13</th>\n",
       "      <th>14</th>\n",
       "      <th>15</th>\n",
       "      <th>16</th>\n",
       "      <th>17</th>\n",
       "      <th>18</th>\n",
       "      <th>19</th>\n",
       "    </tr>\n",
       "  </thead>\n",
       "  <tbody>\n",
       "    <tr>\n",
       "      <th>features</th>\n",
       "      <td>Series Code</td>\n",
       "      <td>Topic</td>\n",
       "      <td>Indicator Name</td>\n",
       "      <td>Short definition</td>\n",
       "      <td>Long definition</td>\n",
       "      <td>Unit of measure</td>\n",
       "      <td>Periodicity</td>\n",
       "      <td>Base Period</td>\n",
       "      <td>Other notes</td>\n",
       "      <td>Aggregation method</td>\n",
       "      <td>Limitations and exceptions</td>\n",
       "      <td>Notes from original source</td>\n",
       "      <td>General comments</td>\n",
       "      <td>Source</td>\n",
       "      <td>Statistical concept and methodology</td>\n",
       "      <td>Development relevance</td>\n",
       "      <td>Related source links</td>\n",
       "      <td>Other web links</td>\n",
       "      <td>Related indicators</td>\n",
       "      <td>License Type</td>\n",
       "    </tr>\n",
       "    <tr>\n",
       "      <th>null_count</th>\n",
       "      <td>0</td>\n",
       "      <td>0</td>\n",
       "      <td>0</td>\n",
       "      <td>1509</td>\n",
       "      <td>0</td>\n",
       "      <td>3665</td>\n",
       "      <td>3566</td>\n",
       "      <td>3351</td>\n",
       "      <td>3113</td>\n",
       "      <td>3618</td>\n",
       "      <td>3651</td>\n",
       "      <td>3665</td>\n",
       "      <td>3651</td>\n",
       "      <td>0</td>\n",
       "      <td>3642</td>\n",
       "      <td>3662</td>\n",
       "      <td>3450</td>\n",
       "      <td>3665</td>\n",
       "      <td>3665</td>\n",
       "      <td>3665</td>\n",
       "    </tr>\n",
       "    <tr>\n",
       "      <th>null_pct</th>\n",
       "      <td>0.0</td>\n",
       "      <td>0.0</td>\n",
       "      <td>0.0</td>\n",
       "      <td>41.17</td>\n",
       "      <td>0.0</td>\n",
       "      <td>100.0</td>\n",
       "      <td>97.3</td>\n",
       "      <td>91.43</td>\n",
       "      <td>84.94</td>\n",
       "      <td>98.72</td>\n",
       "      <td>99.62</td>\n",
       "      <td>100.0</td>\n",
       "      <td>99.62</td>\n",
       "      <td>0.0</td>\n",
       "      <td>99.37</td>\n",
       "      <td>99.92</td>\n",
       "      <td>94.13</td>\n",
       "      <td>100.0</td>\n",
       "      <td>100.0</td>\n",
       "      <td>100.0</td>\n",
       "    </tr>\n",
       "  </tbody>\n",
       "</table>\n",
       "</div>"
      ],
      "text/plain": [
       "                     0      1               2                 3   \\\n",
       "features    Series Code  Topic  Indicator Name  Short definition   \n",
       "null_count            0      0               0              1509   \n",
       "null_pct            0.0    0.0             0.0             41.17   \n",
       "\n",
       "                         4                5            6            7   \\\n",
       "features    Long definition  Unit of measure  Periodicity  Base Period   \n",
       "null_count                0             3665         3566         3351   \n",
       "null_pct                0.0            100.0         97.3        91.43   \n",
       "\n",
       "                     8                   9                           10  \\\n",
       "features    Other notes  Aggregation method  Limitations and exceptions   \n",
       "null_count         3113                3618                        3651   \n",
       "null_pct          84.94               98.72                       99.62   \n",
       "\n",
       "                                    11                12      13  \\\n",
       "features    Notes from original source  General comments  Source   \n",
       "null_count                        3665              3651       0   \n",
       "null_pct                         100.0             99.62     0.0   \n",
       "\n",
       "                                             14                     15  \\\n",
       "features    Statistical concept and methodology  Development relevance   \n",
       "null_count                                 3642                   3662   \n",
       "null_pct                                  99.37                  99.92   \n",
       "\n",
       "                              16               17                  18  \\\n",
       "features    Related source links  Other web links  Related indicators   \n",
       "null_count                  3450             3665                3665   \n",
       "null_pct                   94.13            100.0               100.0   \n",
       "\n",
       "                      19  \n",
       "features    License Type  \n",
       "null_count          3665  \n",
       "null_pct           100.0  "
      ]
     },
     "execution_count": 22,
     "metadata": {},
     "output_type": "execute_result"
    }
   ],
   "source": [
    "df_ed_stats_series.get_null_info().T"
   ]
  },
  {
   "cell_type": "code",
   "execution_count": 23,
   "metadata": {},
   "outputs": [
    {
     "data": {
      "image/png": "[encoded data removed]",
      "text/plain": [
       "<Figure size 800x500 with 1 Axes>"
      ]
     },
     "metadata": {},
     "output_type": "display_data"
    }
   ],
   "source": [
    "plt.rcParams['figure.figsize']=(8,5)\n",
    "df_ed_stats_series.show_null_info()"
   ]
  },
  {
   "cell_type": "markdown",
   "metadata": {},
   "source": [
    "1. This data contains serieswise data for the survey.\n",
    "2. There are more lots fo null values for all the columns except 'Serie Code', 'Topic', 'Long defination', 'Source'."
   ]
  },
  {
   "cell_type": "markdown",
   "metadata": {
    "jp-MarkdownHeadingCollapsed": true
   },
   "source": [
    "### 5. stats foot note "
   ]
  },
  {
   "cell_type": "code",
   "execution_count": 24,
   "metadata": {},
   "outputs": [
    {
     "name": "stdout",
     "output_type": "stream",
     "text": [
      "Shape : (643638, 4)\n"
     ]
    },
    {
     "data": {
      "text/html": [
       "<div>\n",
       "<style scoped>\n",
       "    .dataframe tbody tr th:only-of-type {\n",
       "        vertical-align: middle;\n",
       "    }\n",
       "\n",
       "    .dataframe tbody tr th {\n",
       "        vertical-align: top;\n",
       "    }\n",
       "\n",
       "    .dataframe thead th {\n",
       "        text-align: right;\n",
       "    }\n",
       "</style>\n",
       "<table border=\"1\" class=\"dataframe\">\n",
       "  <thead>\n",
       "    <tr style=\"text-align: right;\">\n",
       "      <th></th>\n",
       "      <th>CountryCode</th>\n",
       "      <th>SeriesCode</th>\n",
       "      <th>Year</th>\n",
       "      <th>DESCRIPTION</th>\n",
       "    </tr>\n",
       "  </thead>\n",
       "  <tbody>\n",
       "    <tr>\n",
       "      <th>0</th>\n",
       "      <td>ABW</td>\n",
       "      <td>SE.PRE.ENRL.FE</td>\n",
       "      <td>YR2001</td>\n",
       "      <td>Country estimation.</td>\n",
       "    </tr>\n",
       "    <tr>\n",
       "      <th>1</th>\n",
       "      <td>ABW</td>\n",
       "      <td>SE.TER.TCHR.FE</td>\n",
       "      <td>YR2005</td>\n",
       "      <td>Country estimation.</td>\n",
       "    </tr>\n",
       "    <tr>\n",
       "      <th>2</th>\n",
       "      <td>ABW</td>\n",
       "      <td>SE.PRE.TCHR.FE</td>\n",
       "      <td>YR2000</td>\n",
       "      <td>Country estimation.</td>\n",
       "    </tr>\n",
       "  </tbody>\n",
       "</table>\n",
       "</div>"
      ],
      "text/plain": [
       "  CountryCode      SeriesCode    Year          DESCRIPTION\n",
       "0         ABW  SE.PRE.ENRL.FE  YR2001  Country estimation.\n",
       "1         ABW  SE.TER.TCHR.FE  YR2005  Country estimation.\n",
       "2         ABW  SE.PRE.TCHR.FE  YR2000  Country estimation."
      ]
     },
     "execution_count": 24,
     "metadata": {},
     "output_type": "execute_result"
    }
   ],
   "source": [
    "df_stats_foot_note=df(path_ed_stats_foot_note)\n",
    "df_stats_foot_note.get_df().head(3)"
   ]
  },
  {
   "cell_type": "code",
   "execution_count": 25,
   "metadata": {},
   "outputs": [
    {
     "name": "stdout",
     "output_type": "stream",
     "text": [
      "duplicate counts :  0\n",
      "\n",
      "columns :  Index(['CountryCode', 'SeriesCode', 'Year', 'DESCRIPTION'], dtype='object')\n",
      "\n",
      "info :\n",
      "<class 'pandas.core.frame.DataFrame'>\n",
      "RangeIndex: 643638 entries, 0 to 643637\n",
      "Data columns (total 4 columns):\n",
      " #   Column       Non-Null Count   Dtype \n",
      "---  ------       --------------   ----- \n",
      " 0   CountryCode  643638 non-null  object\n",
      " 1   SeriesCode   643638 non-null  object\n",
      " 2   Year         643638 non-null  object\n",
      " 3   DESCRIPTION  643638 non-null  object\n",
      "dtypes: object(4)\n",
      "memory usage: 19.6+ MB\n",
      "None\n"
     ]
    }
   ],
   "source": [
    "df_stats_foot_note.know_your_data()"
   ]
  },
  {
   "cell_type": "code",
   "execution_count": 26,
   "metadata": {},
   "outputs": [
    {
     "data": {
      "text/html": [
       "<div>\n",
       "<style scoped>\n",
       "    .dataframe tbody tr th:only-of-type {\n",
       "        vertical-align: middle;\n",
       "    }\n",
       "\n",
       "    .dataframe tbody tr th {\n",
       "        vertical-align: top;\n",
       "    }\n",
       "\n",
       "    .dataframe thead th {\n",
       "        text-align: right;\n",
       "    }\n",
       "</style>\n",
       "<table border=\"1\" class=\"dataframe\">\n",
       "  <thead>\n",
       "    <tr style=\"text-align: right;\">\n",
       "      <th></th>\n",
       "      <th>CountryCode</th>\n",
       "      <th>SeriesCode</th>\n",
       "      <th>Year</th>\n",
       "      <th>DESCRIPTION</th>\n",
       "    </tr>\n",
       "  </thead>\n",
       "  <tbody>\n",
       "    <tr>\n",
       "      <th>count</th>\n",
       "      <td>643638</td>\n",
       "      <td>643638</td>\n",
       "      <td>643638</td>\n",
       "      <td>643638</td>\n",
       "    </tr>\n",
       "    <tr>\n",
       "      <th>unique</th>\n",
       "      <td>239</td>\n",
       "      <td>1558</td>\n",
       "      <td>56</td>\n",
       "      <td>9102</td>\n",
       "    </tr>\n",
       "    <tr>\n",
       "      <th>top</th>\n",
       "      <td>LIC</td>\n",
       "      <td>SH.DYN.MORT</td>\n",
       "      <td>YR2004</td>\n",
       "      <td>Country Data</td>\n",
       "    </tr>\n",
       "    <tr>\n",
       "      <th>freq</th>\n",
       "      <td>7320</td>\n",
       "      <td>9226</td>\n",
       "      <td>27128</td>\n",
       "      <td>191188</td>\n",
       "    </tr>\n",
       "  </tbody>\n",
       "</table>\n",
       "</div>"
      ],
      "text/plain": [
       "       CountryCode   SeriesCode    Year   DESCRIPTION\n",
       "count       643638       643638  643638        643638\n",
       "unique         239         1558      56          9102\n",
       "top            LIC  SH.DYN.MORT  YR2004  Country Data\n",
       "freq          7320         9226   27128        191188"
      ]
     },
     "execution_count": 26,
     "metadata": {},
     "output_type": "execute_result"
    }
   ],
   "source": [
    "df_stats_foot_note.get_df().describe()"
   ]
  },
  {
   "cell_type": "code",
   "execution_count": 27,
   "metadata": {},
   "outputs": [
    {
     "data": {
      "text/html": [
       "<div>\n",
       "<style scoped>\n",
       "    .dataframe tbody tr th:only-of-type {\n",
       "        vertical-align: middle;\n",
       "    }\n",
       "\n",
       "    .dataframe tbody tr th {\n",
       "        vertical-align: top;\n",
       "    }\n",
       "\n",
       "    .dataframe thead th {\n",
       "        text-align: right;\n",
       "    }\n",
       "</style>\n",
       "<table border=\"1\" class=\"dataframe\">\n",
       "  <thead>\n",
       "    <tr style=\"text-align: right;\">\n",
       "      <th></th>\n",
       "      <th>features</th>\n",
       "      <th>null_count</th>\n",
       "      <th>null_pct</th>\n",
       "    </tr>\n",
       "  </thead>\n",
       "  <tbody>\n",
       "    <tr>\n",
       "      <th>0</th>\n",
       "      <td>CountryCode</td>\n",
       "      <td>0</td>\n",
       "      <td>0.0</td>\n",
       "    </tr>\n",
       "    <tr>\n",
       "      <th>1</th>\n",
       "      <td>SeriesCode</td>\n",
       "      <td>0</td>\n",
       "      <td>0.0</td>\n",
       "    </tr>\n",
       "    <tr>\n",
       "      <th>2</th>\n",
       "      <td>Year</td>\n",
       "      <td>0</td>\n",
       "      <td>0.0</td>\n",
       "    </tr>\n",
       "    <tr>\n",
       "      <th>3</th>\n",
       "      <td>DESCRIPTION</td>\n",
       "      <td>0</td>\n",
       "      <td>0.0</td>\n",
       "    </tr>\n",
       "  </tbody>\n",
       "</table>\n",
       "</div>"
      ],
      "text/plain": [
       "      features  null_count  null_pct\n",
       "0  CountryCode           0       0.0\n",
       "1   SeriesCode           0       0.0\n",
       "2         Year           0       0.0\n",
       "3  DESCRIPTION           0       0.0"
      ]
     },
     "execution_count": 27,
     "metadata": {},
     "output_type": "execute_result"
    }
   ],
   "source": [
    "df_stats_foot_note.get_null_info()"
   ]
  },
  {
   "cell_type": "code",
   "execution_count": 28,
   "metadata": {},
   "outputs": [
    {
     "data": {
      "image/png": "[encoded data removed]",
      "text/plain": [
       "<Figure size 800x500 with 1 Axes>"
      ]
     },
     "metadata": {},
     "output_type": "display_data"
    }
   ],
   "source": [
    "df_stats_foot_note.show_null_info()"
   ]
  },
  {
   "cell_type": "markdown",
   "metadata": {},
   "source": [
    "1. This file contains 'Country Code', 'Series Code', 'Description' 'Year' from world bank survey.\n",
    "2. There is  no null/ missing value."
   ]
  },
  {
   "cell_type": "markdown",
   "metadata": {
    "id": "nA9Y7ga8ng1Z"
   },
   "source": [
    "## ***2. Understanding Your Variables***"
   ]
  },
  {
   "cell_type": "code",
   "execution_count": 29,
   "metadata": {},
   "outputs": [],
   "source": [
    "# describe"
   ]
  },
  {
   "cell_type": "markdown",
   "metadata": {
    "id": "PBTbrJXOngz2"
   },
   "source": [
    "### Variables Description "
   ]
  },
  {
   "cell_type": "markdown",
   "metadata": {
    "id": "u3PMJOP6ngxN"
   },
   "source": [
    "### Check Unique Values for each variable."
   ]
  },
  {
   "cell_type": "code",
   "execution_count": 30,
   "metadata": {
    "id": "zms12Yq5n-jE"
   },
   "outputs": [],
   "source": [
    "# Function for unique visualization\n",
    "def show_unique(df):\n",
    "    ''' input dataframe and shows unique value details '''\n",
    "    unique_df = df.nunique().reset_index().rename(columns={'index': 'features',0:'unique_count'}).T\n",
    "    print(unique_df)\n",
    "    print()\n",
    "    for col in df.columns:\n",
    "        print('\\n')\n",
    "        print(f'Unique values for the column \"{col}\" :')\n",
    "        print()\n",
    "        print(list(df[col].unique()))\n",
    "    "
   ]
  },
  {
   "cell_type": "markdown",
   "metadata": {
    "id": "dauF4eBmngu3"
   },
   "source": [
    "## 3. ***Data Wrangling***"
   ]
  },
  {
   "cell_type": "markdown",
   "metadata": {
    "id": "bKJF3rekwFvQ"
   },
   "source": [
    "### Data Wrangling Code"
   ]
  },
  {
   "cell_type": "code",
   "execution_count": 31,
   "metadata": {
    "id": "wk-9a2fpoLcV"
   },
   "outputs": [],
   "source": [
    "# Write your code to make your dataset analysis ready.\n",
    "def remove_high_null_col(df):\n",
    "    null_ = df.isna().sum().reset_index()\n",
    "    null_['null_pct'] = null_[0]/len(df)*100\n",
    "    cols = list(null_[null_['null_pct']>30]['index'])\n",
    "    print('shape before',df.shape)\n",
    "    df = df.drop(columns=cols)\n",
    "    print('shape after ',df.shape)\n",
    "    return df"
   ]
  },
  {
   "cell_type": "markdown",
   "metadata": {
    "id": "MSa1f5Uengrz"
   },
   "source": [
    "### What all manipulations have you done and insights you found?"
   ]
  },
  {
   "cell_type": "markdown",
   "metadata": {
    "id": "GF8Ens_Soomf"
   },
   "source": [
    "## ***4. Data Vizualization, Storytelling & Experimenting with charts : Understand the relationships between variables***"
   ]
  },
  {
   "cell_type": "code",
   "execution_count": null,
   "metadata": {},
   "outputs": [],
   "source": []
  },
  {
   "cell_type": "markdown",
   "metadata": {
    "id": "0wOQAZs5pc--"
   },
   "source": [
    "#### Chart - 1 : Top 10 countries with highest no. of transactions"
   ]
  },
  {
   "cell_type": "code",
   "execution_count": 32,
   "metadata": {
    "scrolled": true
   },
   "outputs": [],
   "source": [
    "# Top 20 countries doing highest number of transaction from world bank.\n"
   ]
  },
  {
   "cell_type": "markdown",
   "metadata": {
    "id": "K5QZ13OEpz2H"
   },
   "source": [
    "##### 1. Why did you pick the specific chart?"
   ]
  },
  {
   "cell_type": "markdown",
   "metadata": {
    "id": "XESiWehPqBRc"
   },
   "source": [
    "To display top countries with highest no. of trades through world bank."
   ]
  },
  {
   "cell_type": "markdown",
   "metadata": {
    "id": "lQ7QKXXCp7Bj"
   },
   "source": [
    "##### 2. What is/are the insight(s) found from the chart?"
   ]
  },
  {
   "cell_type": "markdown",
   "metadata": {
    "id": "C_j1G7yiqdRP"
   },
   "source": [
    "Countries like Georgia, Moldova, Cyprus, Tanzania etc are the top who does highest trade with world bank."
   ]
  },
  {
   "cell_type": "markdown",
   "metadata": {
    "id": "448CDAPjqfQr"
   },
   "source": [
    "##### 3. Will the gained insights help creating a positive business impact? \n",
    "Are there any insights that lead to negative growth? Justify with specific reason."
   ]
  },
  {
   "cell_type": "markdown",
   "metadata": {
    "id": "3cspy4FjqxJW"
   },
   "source": [
    "Yes."
   ]
  },
  {
   "cell_type": "markdown",
   "metadata": {
    "id": "KSlN3yHqYklG"
   },
   "source": [
    "#### Chart - 2"
   ]
  },
  {
   "cell_type": "code",
   "execution_count": null,
   "metadata": {},
   "outputs": [],
   "source": []
  },
  {
   "cell_type": "markdown",
   "metadata": {
    "id": "t6dVpIINYklI"
   },
   "source": [
    "##### 1. Why did you pick the specific chart?"
   ]
  },
  {
   "cell_type": "markdown",
   "metadata": {
    "id": "5aaW0BYyYklI"
   },
   "source": [
    "Answer Here.\n",
    "to see "
   ]
  },
  {
   "cell_type": "markdown",
   "metadata": {
    "id": "ijmpgYnKYklI"
   },
   "source": [
    "##### 2. What is/are the insight(s) found from the chart?"
   ]
  },
  {
   "cell_type": "markdown",
   "metadata": {
    "id": "PSx9atu2YklI"
   },
   "source": [
    "Answer Here"
   ]
  },
  {
   "cell_type": "markdown",
   "metadata": {
    "id": "-JiQyfWJYklI"
   },
   "source": [
    "##### 3. Will the gained insights help creating a positive business impact? \n",
    "Are there any insights that lead to negative growth? Justify with specific reason."
   ]
  },
  {
   "cell_type": "markdown",
   "metadata": {
    "id": "BcBbebzrYklV"
   },
   "source": [
    "Answer Here"
   ]
  },
  {
   "cell_type": "markdown",
   "metadata": {
    "id": "EM7whBJCYoAo"
   },
   "source": [
    "#### Chart - 3"
   ]
  },
  {
   "cell_type": "code",
   "execution_count": 33,
   "metadata": {
    "id": "t6GMdE67YoAp"
   },
   "outputs": [],
   "source": [
    "# Chart - 3 visualization code"
   ]
  },
  {
   "cell_type": "markdown",
   "metadata": {
    "id": "fge-S5ZAYoAp"
   },
   "source": [
    "##### 1. Why did you pick the specific chart?"
   ]
  },
  {
   "cell_type": "markdown",
   "metadata": {
    "id": "5dBItgRVYoAp"
   },
   "source": [
    "Answer Here."
   ]
  },
  {
   "cell_type": "markdown",
   "metadata": {
    "id": "85gYPyotYoAp"
   },
   "source": [
    "##### 2. What is/are the insight(s) found from the chart?"
   ]
  },
  {
   "cell_type": "markdown",
   "metadata": {
    "id": "4jstXR6OYoAp"
   },
   "source": [
    "Answer Here"
   ]
  },
  {
   "cell_type": "markdown",
   "metadata": {
    "id": "RoGjAbkUYoAp"
   },
   "source": [
    "##### 3. Will the gained insights help creating a positive business impact? \n",
    "Are there any insights that lead to negative growth? Justify with specific reason."
   ]
  },
  {
   "cell_type": "markdown",
   "metadata": {
    "id": "zfJ8IqMcYoAp"
   },
   "source": [
    "Answer Here"
   ]
  },
  {
   "cell_type": "markdown",
   "metadata": {
    "id": "4Of9eVA-YrdM"
   },
   "source": [
    "#### Chart - 4"
   ]
  },
  {
   "cell_type": "code",
   "execution_count": 34,
   "metadata": {
    "id": "irlUoxc8YrdO"
   },
   "outputs": [],
   "source": [
    "# Chart - 4 visualization code"
   ]
  },
  {
   "cell_type": "markdown",
   "metadata": {
    "id": "iky9q4vBYrdO"
   },
   "source": [
    "##### 1. Why did you pick the specific chart?"
   ]
  },
  {
   "cell_type": "markdown",
   "metadata": {
    "id": "aJRCwT6DYrdO"
   },
   "source": [
    "Answer Here."
   ]
  },
  {
   "cell_type": "markdown",
   "metadata": {
    "id": "F6T5p64dYrdO"
   },
   "source": [
    "##### 2. What is/are the insight(s) found from the chart?"
   ]
  },
  {
   "cell_type": "markdown",
   "metadata": {
    "id": "Xx8WAJvtYrdO"
   },
   "source": [
    "Answer Here"
   ]
  },
  {
   "cell_type": "markdown",
   "metadata": {
    "id": "y-Ehk30pYrdP"
   },
   "source": [
    "##### 3. Will the gained insights help creating a positive business impact? \n",
    "Are there any insights that lead to negative growth? Justify with specific reason."
   ]
  },
  {
   "cell_type": "markdown",
   "metadata": {
    "id": "jLNxxz7MYrdP"
   },
   "source": [
    "Answer Here"
   ]
  },
  {
   "cell_type": "markdown",
   "metadata": {
    "id": "bamQiAODYuh1"
   },
   "source": [
    "#### Chart - 5"
   ]
  },
  {
   "cell_type": "code",
   "execution_count": 35,
   "metadata": {
    "id": "TIJwrbroYuh3"
   },
   "outputs": [],
   "source": [
    "# Chart - 5 visualization code"
   ]
  },
  {
   "cell_type": "markdown",
   "metadata": {
    "id": "QHF8YVU7Yuh3"
   },
   "source": [
    "##### 1. Why did you pick the specific chart?"
   ]
  },
  {
   "cell_type": "markdown",
   "metadata": {
    "id": "dcxuIMRPYuh3"
   },
   "source": [
    "Answer Here."
   ]
  },
  {
   "cell_type": "markdown",
   "metadata": {
    "id": "GwzvFGzlYuh3"
   },
   "source": [
    "##### 2. What is/are the insight(s) found from the chart?"
   ]
  },
  {
   "cell_type": "markdown",
   "metadata": {
    "id": "uyqkiB8YYuh3"
   },
   "source": [
    "Answer Here"
   ]
  },
  {
   "cell_type": "markdown",
   "metadata": {
    "id": "qYpmQ266Yuh3"
   },
   "source": [
    "##### 3. Will the gained insights help creating a positive business impact? \n",
    "Are there any insights that lead to negative growth? Justify with specific reason."
   ]
  },
  {
   "cell_type": "markdown",
   "metadata": {
    "id": "_WtzZ_hCYuh4"
   },
   "source": [
    "Answer Here"
   ]
  },
  {
   "cell_type": "markdown",
   "metadata": {
    "id": "OH-pJp9IphqM"
   },
   "source": [
    "#### Chart - 6"
   ]
  },
  {
   "cell_type": "code",
   "execution_count": 36,
   "metadata": {
    "id": "kuRf4wtuphqN"
   },
   "outputs": [],
   "source": [
    "# Chart - 6 visualization code"
   ]
  },
  {
   "cell_type": "markdown",
   "metadata": {
    "id": "bbFf2-_FphqN"
   },
   "source": [
    "##### 1. Why did you pick the specific chart?"
   ]
  },
  {
   "cell_type": "markdown",
   "metadata": {
    "id": "loh7H2nzphqN"
   },
   "source": [
    "Answer Here."
   ]
  },
  {
   "cell_type": "markdown",
   "metadata": {
    "id": "_ouA3fa0phqN"
   },
   "source": [
    "##### 2. What is/are the insight(s) found from the chart?"
   ]
  },
  {
   "cell_type": "markdown",
   "metadata": {
    "id": "VECbqPI7phqN"
   },
   "source": [
    "Answer Here"
   ]
  },
  {
   "cell_type": "markdown",
   "metadata": {
    "id": "Seke61FWphqN"
   },
   "source": [
    "##### 3. Will the gained insights help creating a positive business impact? \n",
    "Are there any insights that lead to negative growth? Justify with specific reason."
   ]
  },
  {
   "cell_type": "markdown",
   "metadata": {
    "id": "DW4_bGpfphqN"
   },
   "source": [
    "Answer Here"
   ]
  },
  {
   "cell_type": "markdown",
   "metadata": {
    "id": "PIIx-8_IphqN"
   },
   "source": [
    "#### Chart - 7"
   ]
  },
  {
   "cell_type": "code",
   "execution_count": 37,
   "metadata": {
    "id": "lqAIGUfyphqO"
   },
   "outputs": [],
   "source": [
    "# Chart - 7 visualization code"
   ]
  },
  {
   "cell_type": "markdown",
   "metadata": {
    "id": "t27r6nlMphqO"
   },
   "source": [
    "##### 1. Why did you pick the specific chart?"
   ]
  },
  {
   "cell_type": "markdown",
   "metadata": {
    "id": "iv6ro40sphqO"
   },
   "source": [
    "Answer Here."
   ]
  },
  {
   "cell_type": "markdown",
   "metadata": {
    "id": "r2jJGEOYphqO"
   },
   "source": [
    "##### 2. What is/are the insight(s) found from the chart?"
   ]
  },
  {
   "cell_type": "markdown",
   "metadata": {
    "id": "Po6ZPi4hphqO"
   },
   "source": [
    "Answer Here"
   ]
  },
  {
   "cell_type": "markdown",
   "metadata": {
    "id": "b0JNsNcRphqO"
   },
   "source": [
    "##### 3. Will the gained insights help creating a positive business impact? \n",
    "Are there any insights that lead to negative growth? Justify with specific reason."
   ]
  },
  {
   "cell_type": "markdown",
   "metadata": {
    "id": "xvSq8iUTphqO"
   },
   "source": [
    "Answer Here"
   ]
  },
  {
   "cell_type": "markdown",
   "metadata": {
    "id": "BZR9WyysphqO"
   },
   "source": [
    "#### Chart - 8"
   ]
  },
  {
   "cell_type": "code",
   "execution_count": 38,
   "metadata": {
    "id": "TdPTWpAVphqO"
   },
   "outputs": [],
   "source": [
    "# Chart - 8 visualization code"
   ]
  },
  {
   "cell_type": "markdown",
   "metadata": {
    "id": "jj7wYXLtphqO"
   },
   "source": [
    "##### 1. Why did you pick the specific chart?"
   ]
  },
  {
   "cell_type": "markdown",
   "metadata": {
    "id": "Ob8u6rCTphqO"
   },
   "source": [
    "Answer Here."
   ]
  },
  {
   "cell_type": "markdown",
   "metadata": {
    "id": "eZrbJ2SmphqO"
   },
   "source": [
    "##### 2. What is/are the insight(s) found from the chart?"
   ]
  },
  {
   "cell_type": "markdown",
   "metadata": {
    "id": "mZtgC_hjphqO"
   },
   "source": [
    "Answer Here"
   ]
  },
  {
   "cell_type": "markdown",
   "metadata": {
    "id": "rFu4xreNphqO"
   },
   "source": [
    "##### 3. Will the gained insights help creating a positive business impact? \n",
    "Are there any insights that lead to negative growth? Justify with specific reason."
   ]
  },
  {
   "cell_type": "markdown",
   "metadata": {
    "id": "ey_0qi68phqO"
   },
   "source": [
    "Answer Here"
   ]
  },
  {
   "cell_type": "markdown",
   "metadata": {
    "id": "YJ55k-q6phqO"
   },
   "source": [
    "#### Chart - 9"
   ]
  },
  {
   "cell_type": "code",
   "execution_count": 39,
   "metadata": {
    "id": "B2aS4O1ophqO"
   },
   "outputs": [],
   "source": [
    "# Chart - 9 visualization code"
   ]
  },
  {
   "cell_type": "markdown",
   "metadata": {
    "id": "gCFgpxoyphqP"
   },
   "source": [
    "##### 1. Why did you pick the specific chart?"
   ]
  },
  {
   "cell_type": "markdown",
   "metadata": {
    "id": "TVxDimi2phqP"
   },
   "source": [
    "Answer Here."
   ]
  },
  {
   "cell_type": "markdown",
   "metadata": {
    "id": "OVtJsKN_phqQ"
   },
   "source": [
    "##### 2. What is/are the insight(s) found from the chart?"
   ]
  },
  {
   "cell_type": "markdown",
   "metadata": {
    "id": "ngGi97qjphqQ"
   },
   "source": [
    "Answer Here"
   ]
  },
  {
   "cell_type": "markdown",
   "metadata": {
    "id": "lssrdh5qphqQ"
   },
   "source": [
    "##### 3. Will the gained insights help creating a positive business impact? \n",
    "Are there any insights that lead to negative growth? Justify with specific reason."
   ]
  },
  {
   "cell_type": "markdown",
   "metadata": {
    "id": "tBpY5ekJphqQ"
   },
   "source": [
    "Answer Here"
   ]
  },
  {
   "cell_type": "markdown",
   "metadata": {
    "id": "U2RJ9gkRphqQ"
   },
   "source": [
    "#### Chart - 10"
   ]
  },
  {
   "cell_type": "code",
   "execution_count": 40,
   "metadata": {
    "id": "GM7a4YP4phqQ"
   },
   "outputs": [],
   "source": [
    "# Chart - 10 visualization code"
   ]
  },
  {
   "cell_type": "markdown",
   "metadata": {
    "id": "1M8mcRywphqQ"
   },
   "source": [
    "##### 1. Why did you pick the specific chart?"
   ]
  },
  {
   "cell_type": "markdown",
   "metadata": {
    "id": "8agQvks0phqQ"
   },
   "source": [
    "Answer Here."
   ]
  },
  {
   "cell_type": "markdown",
   "metadata": {
    "id": "tgIPom80phqQ"
   },
   "source": [
    "##### 2. What is/are the insight(s) found from the chart?"
   ]
  },
  {
   "cell_type": "markdown",
   "metadata": {
    "id": "Qp13pnNzphqQ"
   },
   "source": [
    "Answer Here"
   ]
  },
  {
   "cell_type": "markdown",
   "metadata": {
    "id": "JMzcOPDDphqR"
   },
   "source": [
    "##### 3. Will the gained insights help creating a positive business impact? \n",
    "Are there any insights that lead to negative growth? Justify with specific reason."
   ]
  },
  {
   "cell_type": "markdown",
   "metadata": {
    "id": "R4Ka1PC2phqR"
   },
   "source": [
    "Answer Here"
   ]
  },
  {
   "cell_type": "markdown",
   "metadata": {
    "id": "x-EpHcCOp1ci"
   },
   "source": [
    "#### Chart - 11"
   ]
  },
  {
   "cell_type": "code",
   "execution_count": 41,
   "metadata": {
    "id": "mAQTIvtqp1cj"
   },
   "outputs": [],
   "source": [
    "# Chart - 11 visualization code"
   ]
  },
  {
   "cell_type": "markdown",
   "metadata": {
    "id": "X_VqEhTip1ck"
   },
   "source": [
    "##### 1. Why did you pick the specific chart?"
   ]
  },
  {
   "cell_type": "markdown",
   "metadata": {
    "id": "-vsMzt_np1ck"
   },
   "source": [
    "Answer Here."
   ]
  },
  {
   "cell_type": "markdown",
   "metadata": {
    "id": "8zGJKyg5p1ck"
   },
   "source": [
    "##### 2. What is/are the insight(s) found from the chart?"
   ]
  },
  {
   "cell_type": "markdown",
   "metadata": {
    "id": "ZYdMsrqVp1ck"
   },
   "source": [
    "Answer Here"
   ]
  },
  {
   "cell_type": "markdown",
   "metadata": {
    "id": "PVzmfK_Ep1ck"
   },
   "source": [
    "##### 3. Will the gained insights help creating a positive business impact? \n",
    "Are there any insights that lead to negative growth? Justify with specific reason."
   ]
  },
  {
   "cell_type": "markdown",
   "metadata": {
    "id": "druuKYZpp1ck"
   },
   "source": [
    "Answer Here"
   ]
  },
  {
   "cell_type": "markdown",
   "metadata": {
    "id": "n3dbpmDWp1ck"
   },
   "source": [
    "#### Chart - 12"
   ]
  },
  {
   "cell_type": "code",
   "execution_count": 42,
   "metadata": {
    "id": "bwevp1tKp1ck"
   },
   "outputs": [],
   "source": [
    "# Chart - 12 visualization code"
   ]
  },
  {
   "cell_type": "markdown",
   "metadata": {
    "id": "ylSl6qgtp1ck"
   },
   "source": [
    "##### 1. Why did you pick the specific chart?"
   ]
  },
  {
   "cell_type": "markdown",
   "metadata": {
    "id": "m2xqNkiQp1ck"
   },
   "source": [
    "Answer Here."
   ]
  },
  {
   "cell_type": "markdown",
   "metadata": {
    "id": "ZWILFDl5p1ck"
   },
   "source": [
    "##### 2. What is/are the insight(s) found from the chart?"
   ]
  },
  {
   "cell_type": "markdown",
   "metadata": {
    "id": "x-lUsV2mp1ck"
   },
   "source": [
    "Answer Here"
   ]
  },
  {
   "cell_type": "markdown",
   "metadata": {
    "id": "M7G43BXep1ck"
   },
   "source": [
    "##### 3. Will the gained insights help creating a positive business impact? \n",
    "Are there any insights that lead to negative growth? Justify with specific reason."
   ]
  },
  {
   "cell_type": "markdown",
   "metadata": {
    "id": "5wwDJXsLp1cl"
   },
   "source": [
    "Answer Here"
   ]
  },
  {
   "cell_type": "markdown",
   "metadata": {
    "id": "Ag9LCva-p1cl"
   },
   "source": [
    "#### Chart - 13"
   ]
  },
  {
   "cell_type": "code",
   "execution_count": 43,
   "metadata": {
    "id": "EUfxeq9-p1cl"
   },
   "outputs": [],
   "source": [
    "# Chart - 13 visualization code"
   ]
  },
  {
   "cell_type": "markdown",
   "metadata": {
    "id": "E6MkPsBcp1cl"
   },
   "source": [
    "##### 1. Why did you pick the specific chart?"
   ]
  },
  {
   "cell_type": "markdown",
   "metadata": {
    "id": "V22bRsFWp1cl"
   },
   "source": [
    "Answer Here."
   ]
  },
  {
   "cell_type": "markdown",
   "metadata": {
    "id": "2cELzS2fp1cl"
   },
   "source": [
    "##### 2. What is/are the insight(s) found from the chart?"
   ]
  },
  {
   "cell_type": "markdown",
   "metadata": {
    "id": "ozQPc2_Ip1cl"
   },
   "source": [
    "Answer Here"
   ]
  },
  {
   "cell_type": "markdown",
   "metadata": {
    "id": "3MPXvC8up1cl"
   },
   "source": [
    "##### 3. Will the gained insights help creating a positive business impact? \n",
    "Are there any insights that lead to negative growth? Justify with specific reason."
   ]
  },
  {
   "cell_type": "markdown",
   "metadata": {
    "id": "GL8l1tdLp1cl"
   },
   "source": [
    "Answer Here"
   ]
  },
  {
   "cell_type": "markdown",
   "metadata": {
    "id": "NC_X3p0fY2L0"
   },
   "source": [
    "#### Chart - 14 - Correlation Heatmap"
   ]
  },
  {
   "cell_type": "code",
   "execution_count": 44,
   "metadata": {
    "id": "xyC9zolEZNRQ"
   },
   "outputs": [],
   "source": [
    "# Correlation Heatmap visualization code"
   ]
  },
  {
   "cell_type": "markdown",
   "metadata": {
    "id": "UV0SzAkaZNRQ"
   },
   "source": [
    "##### 1. Why did you pick the specific chart?"
   ]
  },
  {
   "cell_type": "markdown",
   "metadata": {
    "id": "DVPuT8LYZNRQ"
   },
   "source": [
    "Answer Here."
   ]
  },
  {
   "cell_type": "markdown",
   "metadata": {
    "id": "YPEH6qLeZNRQ"
   },
   "source": [
    "##### 2. What is/are the insight(s) found from the chart?"
   ]
  },
  {
   "cell_type": "markdown",
   "metadata": {
    "id": "bfSqtnDqZNRR"
   },
   "source": [
    "Answer Here"
   ]
  },
  {
   "cell_type": "markdown",
   "metadata": {
    "id": "q29F0dvdveiT"
   },
   "source": [
    "#### Chart - 15 - Pair Plot "
   ]
  },
  {
   "cell_type": "code",
   "execution_count": 45,
   "metadata": {
    "id": "o58-TEIhveiU"
   },
   "outputs": [],
   "source": [
    "# Pair Plot visualization code"
   ]
  },
  {
   "cell_type": "markdown",
   "metadata": {
    "id": "EXh0U9oCveiU"
   },
   "source": [
    "##### 1. Why did you pick the specific chart?"
   ]
  },
  {
   "cell_type": "markdown",
   "metadata": {
    "id": "eMmPjTByveiU"
   },
   "source": [
    "Answer Here."
   ]
  },
  {
   "cell_type": "markdown",
   "metadata": {
    "id": "22aHeOlLveiV"
   },
   "source": [
    "##### 2. What is/are the insight(s) found from the chart?"
   ]
  },
  {
   "cell_type": "markdown",
   "metadata": {
    "id": "uPQ8RGwHveiV"
   },
   "source": [
    "Answer Here"
   ]
  },
  {
   "cell_type": "markdown",
   "metadata": {
    "id": "JcMwzZxoAimU"
   },
   "source": [
    "## **5. Solution to Business Objective**"
   ]
  },
  {
   "cell_type": "markdown",
   "metadata": {
    "id": "8G2x9gOozGDZ"
   },
   "source": [
    "#### What do you suggest the client to achieve Business Objective ? \n",
    "Explain Briefly."
   ]
  },
  {
   "cell_type": "markdown",
   "metadata": {
    "id": "pASKb0qOza21"
   },
   "source": [
    "Answer Here."
   ]
  },
  {
   "cell_type": "markdown",
   "metadata": {
    "id": "gCX9965dhzqZ"
   },
   "source": [
    "# **Conclusion**"
   ]
  },
  {
   "cell_type": "markdown",
   "metadata": {
    "id": "Fjb1IsQkh3yE"
   },
   "source": [
    "Write the conclusion here."
   ]
  },
  {
   "cell_type": "markdown",
   "metadata": {
    "id": "gIfDvo9L0UH2"
   },
   "source": [
    "### ***Hurrah! You have successfully completed your EDA Capstone Project !!!***"
   ]
  }
 ],
 "metadata": {
  "colab": {
   "collapsed_sections": [
    "vncDsAP0Gaoa",
    "FJNUwmbgGyua",
    "w6K7xa23Elo4",
    "yQaldy8SH6Dl",
    "PH-0ReGfmX4f",
    "mDgbUHAGgjLW",
    "O_i_v8NEhb9l",
    "HhfV-JJviCcP",
    "Y3lxredqlCYt",
    "3RnN4peoiCZX",
    "x71ZqKXriCWQ",
    "7hBIi_osiCS2",
    "JlHwYmJAmNHm",
    "35m5QtbWiB9F",
    "PoPl-ycgm1ru",
    "H0kj-8xxnORC",
    "nA9Y7ga8ng1Z",
    "PBTbrJXOngz2",
    "u3PMJOP6ngxN",
    "dauF4eBmngu3",
    "bKJF3rekwFvQ",
    "MSa1f5Uengrz",
    "GF8Ens_Soomf",
    "0wOQAZs5pc--",
    "K5QZ13OEpz2H",
    "lQ7QKXXCp7Bj",
    "448CDAPjqfQr",
    "KSlN3yHqYklG",
    "t6dVpIINYklI",
    "ijmpgYnKYklI",
    "-JiQyfWJYklI",
    "EM7whBJCYoAo",
    "fge-S5ZAYoAp",
    "85gYPyotYoAp",
    "RoGjAbkUYoAp",
    "4Of9eVA-YrdM",
    "iky9q4vBYrdO",
    "F6T5p64dYrdO",
    "y-Ehk30pYrdP",
    "bamQiAODYuh1",
    "QHF8YVU7Yuh3",
    "GwzvFGzlYuh3",
    "qYpmQ266Yuh3",
    "OH-pJp9IphqM",
    "bbFf2-_FphqN",
    "_ouA3fa0phqN",
    "Seke61FWphqN",
    "PIIx-8_IphqN",
    "t27r6nlMphqO",
    "r2jJGEOYphqO",
    "b0JNsNcRphqO",
    "BZR9WyysphqO",
    "jj7wYXLtphqO",
    "eZrbJ2SmphqO",
    "rFu4xreNphqO",
    "YJ55k-q6phqO",
    "gCFgpxoyphqP",
    "OVtJsKN_phqQ",
    "lssrdh5qphqQ",
    "U2RJ9gkRphqQ",
    "1M8mcRywphqQ",
    "tgIPom80phqQ",
    "JMzcOPDDphqR",
    "x-EpHcCOp1ci",
    "X_VqEhTip1ck",
    "8zGJKyg5p1ck",
    "PVzmfK_Ep1ck",
    "n3dbpmDWp1ck",
    "ylSl6qgtp1ck",
    "ZWILFDl5p1ck",
    "M7G43BXep1ck",
    "Ag9LCva-p1cl",
    "E6MkPsBcp1cl",
    "2cELzS2fp1cl",
    "3MPXvC8up1cl",
    "NC_X3p0fY2L0",
    "UV0SzAkaZNRQ",
    "YPEH6qLeZNRQ",
    "q29F0dvdveiT",
    "EXh0U9oCveiU",
    "22aHeOlLveiV",
    "JcMwzZxoAimU",
    "8G2x9gOozGDZ",
    "gCX9965dhzqZ",
    "gIfDvo9L0UH2"
   ],
   "private_outputs": true,
   "provenance": []
  },
  "kernelspec": {
   "display_name": "Python 3 (ipykernel)",
   "language": "python",
   "name": "python3"
  },
  "language_info": {
   "codemirror_mode": {
    "name": "ipython",
    "version": 3
   },
   "file_extension": ".py",
   "mimetype": "text/x-python",
   "name": "python",
   "nbconvert_exporter": "python",
   "pygments_lexer": "ipython3",
   "version": "3.11.4"
  },
  "widgets": {
   "application/vnd.jupyter.widget-state+json": {
    "state": {},
    "version_major": 2,
    "version_minor": 0
   }
  }
 },
 "nbformat": 4,
 "nbformat_minor": 4
}
